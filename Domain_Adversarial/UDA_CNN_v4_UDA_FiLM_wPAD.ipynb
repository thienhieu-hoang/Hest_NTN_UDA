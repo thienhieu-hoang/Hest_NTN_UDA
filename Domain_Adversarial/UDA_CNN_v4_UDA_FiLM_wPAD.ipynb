{
 "cells": [
  {
   "cell_type": "code",
   "execution_count": 12,
   "id": "465b0cc9",
   "metadata": {},
   "outputs": [],
   "source": [
    "import tensorflow as tf\n",
    "\n",
    "import os\n",
    "import sys\n",
    "import numpy as np\n",
    "from scipy.io import savemat\n",
    "from sklearn.linear_model import SGDClassifier\n",
    "\n",
    "# os.environ[\"CUDA_VISIBLE_DEVICES\"] = \"1\"\n",
    "sys.path.append(os.path.abspath('helper'))\n",
    "# import utils\n",
    "# import loader\n",
    "import utils_UDA_FiLM, PAD\n",
    "from utils_UDA_FiLM import UDA_FiLM_Output, train_step_Output"
   ]
  },
  {
   "cell_type": "code",
   "execution_count": 1,
   "id": "005234df",
   "metadata": {},
   "outputs": [
    {
     "name": "stderr",
     "output_type": "stream",
     "text": [
      "2025-07-30 09:49:55.257732: E external/local_xla/xla/stream_executor/cuda/cuda_fft.cc:467] Unable to register cuFFT factory: Attempting to register factory for plugin cuFFT when one has already been registered\n",
      "WARNING: All log messages before absl::InitializeLog() is called are written to STDERR\n",
      "E0000 00:00:1753883395.392878  397566 cuda_dnn.cc:8579] Unable to register cuDNN factory: Attempting to register factory for plugin cuDNN when one has already been registered\n",
      "E0000 00:00:1753883395.433870  397566 cuda_blas.cc:1407] Unable to register cuBLAS factory: Attempting to register factory for plugin cuBLAS when one has already been registered\n",
      "W0000 00:00:1753883395.702119  397566 computation_placer.cc:177] computation placer already registered. Please check linkage and avoid linking the same target more than once.\n",
      "W0000 00:00:1753883395.702157  397566 computation_placer.cc:177] computation placer already registered. Please check linkage and avoid linking the same target more than once.\n",
      "W0000 00:00:1753883395.702162  397566 computation_placer.cc:177] computation placer already registered. Please check linkage and avoid linking the same target more than once.\n",
      "W0000 00:00:1753883395.702167  397566 computation_placer.cc:177] computation placer already registered. Please check linkage and avoid linking the same target more than once.\n",
      "2025-07-30 09:49:55.735811: I tensorflow/core/platform/cpu_feature_guard.cc:210] This TensorFlow binary is optimized to use available CPU instructions in performance-critical operations.\n",
      "To enable the following instructions: AVX2 AVX512F FMA, in other operations, rebuild TensorFlow with the appropriate compiler flags.\n"
     ]
    },
    {
     "name": "stdout",
     "output_type": "stream",
     "text": [
      "2.19.0\n"
     ]
    }
   ],
   "source": [
    "import tensorflow as tf\n",
    "print(tf.__version__)"
   ]
  },
  {
   "cell_type": "code",
   "execution_count": 13,
   "id": "58487d45",
   "metadata": {},
   "outputs": [
    {
     "name": "stdout",
     "output_type": "stream",
     "text": [
      "/home/thien/Code/H_predict_UDA/H_predict_Sionna/Domain_Adaptation/Domain_Adversarial\n",
      "/home/thien/Code/H_predict_UDA/H_predict_Sionna\n"
     ]
    }
   ],
   "source": [
    "notebook_dir = os.getcwd()\n",
    "print(notebook_dir)\n",
    "print(os.path.abspath(os.path.join(notebook_dir, '..', '..')))\n",
    "sys.path.append(os.path.abspath(os.path.join(notebook_dir, '..', '..')))\n",
    "import Est_btween_CSIRS.helper.utils as utils_CNN\n",
    "import Est_btween_CSIRS.helper.loader as loader\n",
    "import Est_btween_CSIRS.helper.plotfig as plotfig"
   ]
  },
  {
   "cell_type": "code",
   "execution_count": 14,
   "id": "7f90e823",
   "metadata": {},
   "outputs": [],
   "source": [
    "source_data_file_path = os.path.abspath(os.path.join(notebook_dir, '..', '..', 'Generate_Data', 'CDL_Channel', 'generatedChannel', 'ver3_', '0dB', 'mapBaseData.mat'))\n",
    "target_data_file_path = os.path.abspath(os.path.join(notebook_dir, '..', '..', 'Generate_Data', 'Sionna', 'generatedChannel', 'ver3_', 'sionnaTrue.mat'))"
   ]
  },
  {
   "cell_type": "code",
   "execution_count": 15,
   "id": "6803a541",
   "metadata": {},
   "outputs": [],
   "source": [
    "learning_rate = 0.0001\n",
    "norm_approach = 'minmax' # can be set to 'std'\n",
    "lower_range = -1 \n",
    "    # if norm_approach = 'minmax': \n",
    "        # =  0 for scaling to  [0 1]\n",
    "        # = -1 for scaling to [-1 1]\n",
    "    # if norm_approach = 'std': can be any value, but need to be defined\n",
    "    \n",
    "# snr_start = -25\n",
    "# snr_step = 5\n",
    "# snr_end = 25\n",
    "# SNR = np.arange(snr_start, snr_end+1, snr_step)\n",
    "\n",
    "# SNR = np.array([0])\n",
    "\n",
    "# if len(SNR) >1:\n",
    "#     SNR_txt = f'{snr_start}:{snr_step}:{snr_end}'\n",
    "# else:\n",
    "#     SNR_txt = f'{SNR[0]}'\n",
    "    \n",
    "# ============ CNN settings ==============\n",
    "if norm_approach == 'minmax':\n",
    "    if lower_range == 0:\n",
    "        norm_txt = 'Using min-max [0 1]'\n",
    "    elif lower_range ==-1:\n",
    "        norm_txt = 'Using min-max [-1 1]'\n",
    "elif norm_approach == 'no':\n",
    "    norm_txt = 'No'\n",
    "    \n",
    "CNN_activation = 'Tanh'\n",
    "CNN_DropOut = 0.2\n",
    "if CNN_DropOut != 0:\n",
    "    dropOut_txt = f'Add p={CNN_DropOut} DropOut'\n",
    "    \n",
    "# ============ Adversarial for Domain Discriminator settings ==============\n",
    "domain_disc = 'conv' # 'dense' or 'conv'\n",
    "first_layer_disc = 'pool' # 'flatten' or 'pool' - only matters when domain_disc = 'dense'\n",
    "                            # note: flatten may cause exhausted memory \n",
    "extract_layer = 3  # extract features after convelution layer 3 \n",
    "# extract_layer = 5\n",
    "lambda_domain=0.1\n",
    "lambda_domain_cond = 0.1\n",
    "text_lambda = f'lambda_domain = {lambda_domain}'\n",
    "    \n",
    "    \n",
    "# create readme.txt file\n",
    "content = f\"\"\"Generated by file 'Domain_Adversarial/UDA_CNN_v3.ipynb'.\n",
    "28 GHz fc,\n",
    "Source dataset got from {source_data_file_path},\n",
    "Target dataset got from {target_data_file_path},\n",
    "Learning rate {learning_rate},\n",
    "{norm_txt} scaler for each sample\n",
    "Using {CNN_activation} as activation function of CNN\n",
    "{dropOut_txt}\n",
    "========= For Domain Discriminator ==========\n",
    "Extract features after layer {extract_layer} of CNN\n",
    "{text_lambda}\n",
    "\"\"\""
   ]
  },
  {
   "cell_type": "code",
   "execution_count": 16,
   "id": "73be6772",
   "metadata": {},
   "outputs": [],
   "source": [
    "# Paths to save\n",
    "idx_save_path = loader.find_incremental_filename(notebook_dir + '/model/CNN','ver', '_', '')\n",
    "\n",
    "save_model = 0\n",
    "model_path = notebook_dir + '/model/CNN/ver' + str(idx_save_path) + '_'\n",
    "# figure_path = notebook_dir + '/model/CNN/ver' + str(idx_save_path) + '_/figure'\n",
    "model_readme = model_path + '/readme.txt'\n",
    "# figure_readme = figure_path + '/readme.txt'\n",
    "\n",
    "# if not os.path.exists(os.path.dirname(model_readme)):\n",
    "#     os.makedirs(os.path.dirname(model_readme))\n",
    "# # if not os.path.exists(os.path.dirname(figure_readme)):\n",
    "# #     os.makedirs(os.path.dirname(figure_readme))\n",
    "\n",
    "# # Open the file in write mode ('w'). If the file does not exist, it will be created.\n",
    "# with open(model_readme, 'w') as file:\n",
    "#     # Write the content to the file\n",
    "#     file.write(content)\n",
    "\n",
    "# # with open(figure_readme, 'w') as file:\n",
    "# #     # Write the content to the file\n",
    "# #     file.write(content)\n",
    "\n",
    "# print(f\"File '{model_readme}'  created and content written.\")\n"
   ]
  },
  {
   "cell_type": "code",
   "execution_count": 17,
   "id": "6bc85339",
   "metadata": {},
   "outputs": [
    {
     "name": "stdout",
     "output_type": "stream",
     "text": [
      "N_samp_source =  2048\n",
      "N_samp_target =  2048\n"
     ]
    }
   ],
   "source": [
    "import h5py\n",
    "\n",
    "batch_size=16\n",
    "\n",
    "# ============ Source data ==============\n",
    "source_file = h5py.File(source_data_file_path, 'r')\n",
    "H_true_source = source_file['H_true']\n",
    "N_samp_source = H_true_source.shape[0]\n",
    "print('N_samp_source = ', N_samp_source)\n",
    "\n",
    "# ============ Target data ==============\n",
    "target_file = h5py.File(target_data_file_path, 'r')\n",
    "H_true_target = target_file['H_true']\n",
    "N_samp_target = H_true_target.shape[0]\n",
    "print('N_samp_target = ', N_samp_target)"
   ]
  },
  {
   "cell_type": "code",
   "execution_count": 18,
   "id": "4247fd0c",
   "metadata": {},
   "outputs": [
    {
     "name": "stdout",
     "output_type": "stream",
     "text": [
      "train_size =  1840\n",
      "val_size =  208\n"
     ]
    }
   ],
   "source": [
    "indices_source = np.arange(N_samp_source)\n",
    "np.random.shuffle(indices_source)\n",
    "indices_target = np.arange(N_samp_target)\n",
    "np.random.shuffle(indices_target)\n",
    "#\n",
    "train_size = int(np.floor(N_samp_source * 0.9) // batch_size * batch_size)\n",
    "val_size = N_samp_source - train_size\n",
    "\n",
    "# Repeat the indices to match the maximum number of samples\n",
    "N_samp = max(N_samp_source, N_samp_target) \n",
    "indices_source = np.resize(indices_source, N_samp)\n",
    "indices_target = np.resize(indices_target, N_samp)\n",
    "\n",
    "# =======================================================\n",
    "## Divide the indices into training and validation sets\n",
    "indices_train_source = indices_source[:train_size]\n",
    "indices_val_source   = indices_source[train_size:train_size + val_size]\n",
    "\n",
    "indices_train_target = indices_target[:train_size]\n",
    "indices_val_target   = indices_target[train_size:train_size + val_size]\n",
    "\n",
    "# to test code\n",
    "# indices_train_source = indices_source[:96]\n",
    "# indices_val_source = indices_source[2032:]\n",
    "# indices_train_target = indices_target[:96]\n",
    "# indices_val_target = indices_target[2032:]\n",
    "\n",
    "print('train_size = ', indices_train_source.shape[0])\n",
    "print('val_size = ', indices_val_source.shape[0])"
   ]
  },
  {
   "cell_type": "code",
   "execution_count": 19,
   "id": "89b87483",
   "metadata": {},
   "outputs": [
    {
     "name": "stdout",
     "output_type": "stream",
     "text": [
      "size loader_H_true_train =  115\n",
      "size loader_H_true_val =  13\n"
     ]
    }
   ],
   "source": [
    "# =========== Source dataset ==============\n",
    "loader_H_true_train_source = utils_CNN.H5BatchLoader(source_file, dataset_name='H_true', batch_size=batch_size, shuffled_indices=indices_train_source)\n",
    "loader_H_1_6_11_train_source = utils_CNN.H5BatchLoader(source_file, 'H_linear_1_6_11', batch_size=batch_size, shuffled_indices=indices_train_source)\n",
    "    # channel at symbol 2 of slots 1,6,11 (channel corresponding to CSI-RS 1, 2, 3)\n",
    "loader_H_true_val_source = utils_CNN.H5BatchLoader(source_file, dataset_name='H_true', batch_size=batch_size, shuffled_indices=indices_val_source)\n",
    "loader_H_1_6_11_val_source = utils_CNN.H5BatchLoader(source_file, 'H_linear_1_6_11', batch_size=batch_size, shuffled_indices=indices_val_source)\n",
    "\n",
    "# =========== Target dataset ==============\n",
    "loader_H_true_train_target = utils_CNN.H5BatchLoader(target_file, dataset_name='H_true', batch_size=batch_size, shuffled_indices=indices_train_target)\n",
    "    # actually at target domain, we don't have true channels, just use this for evaluating the model\n",
    "loader_H_1_6_11_train_target = utils_CNN.H5BatchLoader(target_file, 'H_linear_1_6', batch_size=batch_size, shuffled_indices=indices_train_target)\n",
    "    # channel at symbol 2 of slots 1,6,11 (channel corresponding to CSI-RS 1, 2)\n",
    "loader_H_true_val_target = utils_CNN.H5BatchLoader(target_file, dataset_name='H_true', batch_size=batch_size, shuffled_indices=indices_val_target)\n",
    "loader_H_1_6_11_val_target = utils_CNN.H5BatchLoader(target_file, 'H_linear_1_6', batch_size=batch_size, shuffled_indices=indices_val_target)\n",
    "\n",
    "print('size loader_H_true_train = ', loader_H_true_train_target.total_batches)\n",
    "print('size loader_H_true_val = ', loader_H_true_val_target.total_batches)"
   ]
  },
  {
   "cell_type": "code",
   "execution_count": 22,
   "id": "87af080f",
   "metadata": {},
   "outputs": [
    {
     "name": "stdout",
     "output_type": "stream",
     "text": [
      "X shape =  (3680, 3168)\n",
      "X1 shape =  (1840, 3168) y1 shape =  (1840,)\n",
      "(1840, 3168) (1840,)\n",
      "C: 0.01, Error rate: 0.0321\n",
      "C: 0.1, Error rate: 0.0304\n",
      "C: 0.5, Error rate: 0.0288\n",
      "C: 1.0, Error rate: 0.0277\n",
      "C: 2.0, Error rate: 0.0272\n",
      "C: 5.0, Error rate: 0.0038\n",
      "C: 10.0, Error rate: 0.0033\n",
      "C: 50.0, Error rate: 0.0027\n",
      "C: 100.0, Error rate: 0.0027\n",
      "C: 500.0, Error rate: 0.0027\n",
      "C: 1000.0, Error rate: 0.0027\n",
      "Best C: 50.0, Best error rate: 0.0027\n",
      "PAD = 1.9891\n",
      "PAD = 1.9891\n"
     ]
    }
   ],
   "source": [
    "# Calculate PAD for original datasets with SVM\n",
    "pad = PAD.original_PAD(loader_H_1_6_11_train_source, loader_H_1_6_11_train_target)\n",
    "print(f\"PAD = {pad:.4f}\")"
   ]
  },
  {
   "cell_type": "code",
   "execution_count": 20,
   "id": "63e38782",
   "metadata": {},
   "outputs": [
    {
     "name": "stdout",
     "output_type": "stream",
     "text": [
      "X shape =  (3680, 3168)\n",
      "X1 shape =  (1840, 3168) y1 shape =  (1840,)\n",
      "(1840, 3168) (1840,)\n",
      "alpha: 1e-06, Error rate: 0.4978\n",
      "alpha: 4.641588833612782e-06, Error rate: 0.4978\n",
      "alpha: 2.1544346900318823e-05, Error rate: 0.4978\n",
      "alpha: 0.0001, Error rate: 0.4978\n",
      "alpha: 0.00046415888336127773, Error rate: 0.4978\n",
      "alpha: 0.002154434690031882, Error rate: 0.5022\n",
      "alpha: 0.01, Error rate: 0.5022\n",
      "alpha: 0.046415888336127725, Error rate: 0.4978\n",
      "alpha: 0.21544346900318823, Error rate: 0.4978\n",
      "alpha: 1.0, Error rate: 0.4978\n",
      "Best alpha: 1e-06, Best error rate: 0.4978\n",
      "PAD (SGDClassifier) = 0.0087\n",
      "PAD = 0.0087\n"
     ]
    }
   ],
   "source": [
    "# Calculate PAD for original datasets with SGD\n",
    "pad = PAD.original_PAD_SGD(loader_H_1_6_11_train_source, loader_H_1_6_11_train_target)\n",
    "print(f\"PAD = {pad:.4f}\")"
   ]
  },
  {
   "cell_type": "code",
   "execution_count": 21,
   "id": "1f2b8aab",
   "metadata": {},
   "outputs": [
    {
     "name": "stdout",
     "output_type": "stream",
     "text": [
      "X shape =  (3680, 3168)\n",
      "X1 shape =  (1840, 3168) y1 shape =  (1840,)\n",
      "(1840, 3168) (1840,)\n",
      "alpha: 1e-06, Error rate: 0.4978\n",
      "alpha: 4.641588833612782e-06, Error rate: 0.4978\n",
      "alpha: 2.1544346900318823e-05, Error rate: 0.4978\n",
      "alpha: 0.0001, Error rate: 0.4978\n",
      "alpha: 0.00046415888336127773, Error rate: 0.4978\n",
      "alpha: 0.002154434690031882, Error rate: 0.5022\n",
      "alpha: 0.01, Error rate: 0.5022\n",
      "alpha: 0.046415888336127725, Error rate: 0.5022\n",
      "alpha: 0.21544346900318823, Error rate: 0.4978\n",
      "alpha: 1.0, Error rate: 0.4978\n",
      "Best alpha: 1e-06, Best error rate: 0.4978\n",
      "PAD (KernelApprox+SGDClassifier) = 0.0087\n",
      "PAD = 0.0087\n"
     ]
    }
   ],
   "source": [
    "# Calculate PAD for original datasets with SGD\n",
    "pad = PAD.original_PAD_KernelApprox_SGD(loader_H_1_6_11_train_source, loader_H_1_6_11_train_target)\n",
    "print(f\"PAD = {pad:.4f}\")"
   ]
  },
  {
   "cell_type": "code",
   "execution_count": 26,
   "id": "ca8ff50f",
   "metadata": {},
   "outputs": [],
   "source": [
    "\n",
    "def original_PAD_CNN(loader_H_1_6_11_train_source, loader_H_1_6_11_train_target, epochs=10, batch_size=32, verbose=1):\n",
    "    \"\"\"\n",
    "    Calculate PAD using a simple CNN classifier (1D CNN for flat features).\n",
    "    Inputs: loader_H_1_6_11_train_source, loader_H_1_6_11_train_target\n",
    "    Returns: PAD value (float)\n",
    "    \"\"\"\n",
    "    loader_H_1_6_11_train_source.reset()\n",
    "    loader_H_1_6_11_train_target.reset()\n",
    "    all_features = []\n",
    "    all_labels = []\n",
    "    #\n",
    "    for batch_idx in range(loader_H_1_6_11_train_target.total_batches):\n",
    "        # batch_target: shape (batch_size, 792, 2)\n",
    "        batch_target = loader_H_1_6_11_train_target.next_batch()  # (batch_size, 792,2)\n",
    "        batch_target = batch_target[:,:, 0:2]\n",
    "        real_target = batch_target['real']  # (batch_size, 792,2)\n",
    "        imag_target = batch_target['imag']  # (batch_size, 792,2)\n",
    "        real_flat = real_target.reshape(real_target.shape[0], -1)  # (batch_size, 1584)\n",
    "        imag_flat = imag_target.reshape(imag_target.shape[0], -1)  # (batch_size, 1584)\n",
    "        combined_target = np.concatenate([real_flat, imag_flat], axis=1)  # (batch_size, 3168)\n",
    "        target_labels = (np.ones(combined_target.shape[0], dtype=int))\n",
    "        # \n",
    "        batch_source = loader_H_1_6_11_train_source.next_batch()  # (batch_size, 792, 3)\n",
    "        batch_source = batch_source[:,:,0:2]\n",
    "        real_source = batch_source['real']  # (batch_size, 792,2)\n",
    "        imag_source = batch_source['imag']  # (batch_size, 792,2)\n",
    "        real_flat_source = real_source.reshape(real_source.shape[0], -1)  # (batch_size, 1584)\n",
    "        imag_flat_source = imag_source.reshape(imag_source.shape[0], -1)  # (batch_size, 1584)\n",
    "        combined_source = np.concatenate([real_flat_source, imag_flat_source], axis=1)  # (batch_size, 3168)\n",
    "        source_labels = (np.zeros(combined_source.shape[0], dtype=int))\n",
    "\n",
    "        # --- Combine and append ---\n",
    "        all_features.append(combined_source)\n",
    "        all_features.append(combined_target)\n",
    "        all_labels.append(source_labels)\n",
    "        all_labels.append(target_labels)\n",
    "\n",
    "    # Stack all batches into a single dataset\n",
    "    X = np.vstack(all_features)  # shape: (n_samples, 3168)\n",
    "    y = np.concatenate(all_labels)  # shape: (n_samples,)\n",
    "    print('X shape = ', X.shape)\n",
    "\n",
    "    from sklearn.model_selection import train_test_split\n",
    "    X1, X2, y1, y2 = train_test_split(X, y, test_size=0.5, random_state=42, shuffle=True)\n",
    "\n",
    "    print('X1 shape = ', X1.shape, 'y1 shape = ', y1.shape)  \n",
    "    print(X2.shape, y2.shape) \n",
    "\n",
    "    # Reshape for 1D CNN: (samples, features, 1)\n",
    "    X1_cnn = X1[..., np.newaxis]\n",
    "    X2_cnn = X2[..., np.newaxis]\n",
    "\n",
    "    # Build simple 1D CNN model\n",
    "    model = models.Sequential([\n",
    "        layers.Conv1D(32, 3, activation='relu', input_shape=(X1_cnn.shape[1], 1)),\n",
    "        layers.MaxPooling1D(2),\n",
    "        layers.Conv1D(64, 3, activation='relu'),\n",
    "        layers.MaxPooling1D(2),\n",
    "        layers.Flatten(),\n",
    "        layers.Dense(64, activation='relu'),\n",
    "        layers.Dense(2, activation='softmax')\n",
    "    ])\n",
    "    model.compile(optimizer='adam',\n",
    "                  loss='sparse_categorical_crossentropy',\n",
    "                  metrics=['accuracy'])\n",
    "\n",
    "    # Train\n",
    "    model.fit(X1_cnn, y1, epochs=epochs, batch_size=batch_size, verbose=verbose, validation_data=(X2_cnn, y2))\n",
    "\n",
    "    # Test\n",
    "    y_pred = np.argmax(model.predict(X2_cnn), axis=1)\n",
    "    acc = accuracy_score(y2, y_pred)\n",
    "    error = 1 - acc\n",
    "    pad = 2 * (1 - 2 * error)\n",
    "    print(f\"Test accuracy: {acc:.4f}, Error: {error:.4f}, PAD: {pad:.4f}\")\n",
    "    return pad"
   ]
  },
  {
   "cell_type": "code",
   "execution_count": 28,
   "id": "5a5b6177",
   "metadata": {},
   "outputs": [
    {
     "name": "stdout",
     "output_type": "stream",
     "text": [
      "X shape =  (3680, 3168)\n",
      "X1 shape =  (1840, 3168) y1 shape =  (1840,)\n",
      "(1840, 3168) (1840,)\n"
     ]
    },
    {
     "name": "stderr",
     "output_type": "stream",
     "text": [
      "/home/thien/miniconda3/envs/TF_py311/lib/python3.11/site-packages/keras/src/layers/convolutional/base_conv.py:107: UserWarning: Do not pass an `input_shape`/`input_dim` argument to a layer. When using Sequential models, prefer using an `Input(shape)` object as the first layer in the model instead.\n",
      "  super().__init__(activity_regularizer=activity_regularizer, **kwargs)\n",
      "I0000 00:00:1751907461.050332   22650 gpu_device.cc:2019] Created device /job:localhost/replica:0/task:0/device:GPU:0 with 9548 MB memory:  -> device: 0, name: NVIDIA GeForce RTX 2080 Ti, pci bus id: 0000:1a:00.0, compute capability: 7.5\n",
      "I0000 00:00:1751907461.050919   22650 gpu_device.cc:2019] Created device /job:localhost/replica:0/task:0/device:GPU:1 with 9548 MB memory:  -> device: 1, name: NVIDIA GeForce RTX 2080 Ti, pci bus id: 0000:67:00.0, compute capability: 7.5\n",
      "I0000 00:00:1751907461.051387   22650 gpu_device.cc:2019] Created device /job:localhost/replica:0/task:0/device:GPU:2 with 9484 MB memory:  -> device: 2, name: NVIDIA GeForce RTX 2080 Ti, pci bus id: 0000:68:00.0, compute capability: 7.5\n"
     ]
    },
    {
     "name": "stdout",
     "output_type": "stream",
     "text": [
      "Epoch 1/10\n"
     ]
    },
    {
     "name": "stderr",
     "output_type": "stream",
     "text": [
      "WARNING: All log messages before absl::InitializeLog() is called are written to STDERR\n",
      "I0000 00:00:1751907462.761370   23265 service.cc:152] XLA service 0x7f4b98005050 initialized for platform CUDA (this does not guarantee that XLA will be used). Devices:\n",
      "I0000 00:00:1751907462.761403   23265 service.cc:160]   StreamExecutor device (0): NVIDIA GeForce RTX 2080 Ti, Compute Capability 7.5\n",
      "I0000 00:00:1751907462.761410   23265 service.cc:160]   StreamExecutor device (1): NVIDIA GeForce RTX 2080 Ti, Compute Capability 7.5\n",
      "I0000 00:00:1751907462.761415   23265 service.cc:160]   StreamExecutor device (2): NVIDIA GeForce RTX 2080 Ti, Compute Capability 7.5\n",
      "2025-07-07 12:57:42.823702: I tensorflow/compiler/mlir/tensorflow/utils/dump_mlir_util.cc:269] disabling MLIR crash reproducer, set env var `MLIR_CRASH_REPRODUCER_DIRECTORY` to enable.\n",
      "I0000 00:00:1751907462.981869   23265 cuda_dnn.cc:529] Loaded cuDNN version 90300\n"
     ]
    },
    {
     "name": "stdout",
     "output_type": "stream",
     "text": [
      "\u001b[1m13/58\u001b[0m \u001b[32m━━━━\u001b[0m\u001b[37m━━━━━━━━━━━━━━━━\u001b[0m \u001b[1m0s\u001b[0m 14ms/step - accuracy: 0.4879 - loss: 0.6935"
     ]
    },
    {
     "name": "stderr",
     "output_type": "stream",
     "text": [
      "I0000 00:00:1751907466.846122   23265 device_compiler.h:188] Compiled cluster using XLA!  This line is logged at most once for the lifetime of the process.\n"
     ]
    },
    {
     "name": "stdout",
     "output_type": "stream",
     "text": [
      "\u001b[1m58/58\u001b[0m \u001b[32m━━━━━━━━━━━━━━━━━━━━\u001b[0m\u001b[37m\u001b[0m \u001b[1m7s\u001b[0m 45ms/step - accuracy: 0.4896 - loss: 0.6934 - val_accuracy: 0.4978 - val_loss: 0.6932\n",
      "Epoch 2/10\n",
      "\u001b[1m58/58\u001b[0m \u001b[32m━━━━━━━━━━━━━━━━━━━━\u001b[0m\u001b[37m\u001b[0m \u001b[1m1s\u001b[0m 18ms/step - accuracy: 0.5070 - loss: 0.6932 - val_accuracy: 0.4978 - val_loss: 0.6932\n",
      "Epoch 3/10\n",
      "\u001b[1m58/58\u001b[0m \u001b[32m━━━━━━━━━━━━━━━━━━━━\u001b[0m\u001b[37m\u001b[0m \u001b[1m1s\u001b[0m 17ms/step - accuracy: 0.5002 - loss: 0.6932 - val_accuracy: 0.4978 - val_loss: 0.6932\n",
      "Epoch 4/10\n",
      "\u001b[1m58/58\u001b[0m \u001b[32m━━━━━━━━━━━━━━━━━━━━\u001b[0m\u001b[37m\u001b[0m \u001b[1m1s\u001b[0m 17ms/step - accuracy: 0.5140 - loss: 0.6931 - val_accuracy: 0.4978 - val_loss: 0.6932\n",
      "Epoch 5/10\n",
      "\u001b[1m58/58\u001b[0m \u001b[32m━━━━━━━━━━━━━━━━━━━━\u001b[0m\u001b[37m\u001b[0m \u001b[1m1s\u001b[0m 17ms/step - accuracy: 0.5021 - loss: 0.6932 - val_accuracy: 0.4978 - val_loss: 0.6932\n",
      "Epoch 6/10\n",
      "\u001b[1m58/58\u001b[0m \u001b[32m━━━━━━━━━━━━━━━━━━━━\u001b[0m\u001b[37m\u001b[0m \u001b[1m1s\u001b[0m 17ms/step - accuracy: 0.5090 - loss: 0.6932 - val_accuracy: 0.4978 - val_loss: 0.6932\n",
      "Epoch 7/10\n",
      "\u001b[1m58/58\u001b[0m \u001b[32m━━━━━━━━━━━━━━━━━━━━\u001b[0m\u001b[37m\u001b[0m \u001b[1m1s\u001b[0m 17ms/step - accuracy: 0.4924 - loss: 0.6932 - val_accuracy: 0.4978 - val_loss: 0.6931\n",
      "Epoch 8/10\n",
      "\u001b[1m58/58\u001b[0m \u001b[32m━━━━━━━━━━━━━━━━━━━━\u001b[0m\u001b[37m\u001b[0m \u001b[1m1s\u001b[0m 17ms/step - accuracy: 0.5155 - loss: 0.6932 - val_accuracy: 0.4978 - val_loss: 0.6932\n",
      "Epoch 9/10\n",
      "\u001b[1m58/58\u001b[0m \u001b[32m━━━━━━━━━━━━━━━━━━━━\u001b[0m\u001b[37m\u001b[0m \u001b[1m1s\u001b[0m 17ms/step - accuracy: 0.5101 - loss: 0.6931 - val_accuracy: 0.4978 - val_loss: 0.6932\n",
      "Epoch 10/10\n",
      "\u001b[1m58/58\u001b[0m \u001b[32m━━━━━━━━━━━━━━━━━━━━\u001b[0m\u001b[37m\u001b[0m \u001b[1m1s\u001b[0m 17ms/step - accuracy: 0.4945 - loss: 0.6932 - val_accuracy: 0.4978 - val_loss: 0.6932\n",
      "\u001b[1m58/58\u001b[0m \u001b[32m━━━━━━━━━━━━━━━━━━━━\u001b[0m\u001b[37m\u001b[0m \u001b[1m1s\u001b[0m 7ms/step\n",
      "Test accuracy: 0.4978, Error: 0.5022, PAD: -0.0087\n",
      "PAD = -0.0087\n"
     ]
    }
   ],
   "source": [
    "pad = original_PAD_CNN(loader_H_1_6_11_train_source, loader_H_1_6_11_train_target)\n",
    "print(f\"PAD = {pad:.4f}\")"
   ]
  },
  {
   "cell_type": "code",
   "execution_count": 10,
   "id": "363fec1c",
   "metadata": {},
   "outputs": [],
   "source": [
    "loss_fn_ce = tf.keras.losses.MeanSquaredError()  # Channel estimation loss\n",
    "loss_fn_domain = tf.keras.losses.BinaryCrossentropy()  # Domain classification loss"
   ]
  },
  {
   "cell_type": "code",
   "execution_count": null,
   "id": "e1d67064",
   "metadata": {},
   "outputs": [
    {
     "name": "stdout",
     "output_type": "stream",
     "text": [
      "Processing: FiLM\n"
     ]
    },
    {
     "name": "stderr",
     "output_type": "stream",
     "text": [
      "I0000 00:00:1751900777.652284   21748 gpu_device.cc:2019] Created device /job:localhost/replica:0/task:0/device:GPU:0 with 9548 MB memory:  -> device: 0, name: NVIDIA GeForce RTX 2080 Ti, pci bus id: 0000:1a:00.0, compute capability: 7.5\n",
      "I0000 00:00:1751900777.652886   21748 gpu_device.cc:2019] Created device /job:localhost/replica:0/task:0/device:GPU:1 with 9548 MB memory:  -> device: 1, name: NVIDIA GeForce RTX 2080 Ti, pci bus id: 0000:67:00.0, compute capability: 7.5\n",
      "I0000 00:00:1751900777.653353   21748 gpu_device.cc:2019] Created device /job:localhost/replica:0/task:0/device:GPU:2 with 9484 MB memory:  -> device: 2, name: NVIDIA GeForce RTX 2080 Ti, pci bus id: 0000:68:00.0, compute capability: 7.5\n"
     ]
    },
    {
     "name": "stdout",
     "output_type": "stream",
     "text": [
      "batch_idx: 1/6\n"
     ]
    },
    {
     "name": "stderr",
     "output_type": "stream",
     "text": [
      "/home/thien/miniconda3/envs/TF_py311/lib/python3.11/site-packages/keras/src/layers/layer.py:396: UserWarning: `build()` was called on layer 'domain_discriminator', however the layer does not have a `build()` method implemented and it looks like it has unbuilt state. This will cause the layer to be marked as built, despite not being actually built, which may cause failures down the line. Make sure to implement a proper `build()` method.\n",
      "  warnings.warn(\n",
      "/home/thien/miniconda3/envs/TF_py311/lib/python3.11/site-packages/keras/src/layers/layer.py:396: UserWarning: `build()` was called on layer 'domain_discriminator_1', however the layer does not have a `build()` method implemented and it looks like it has unbuilt state. This will cause the layer to be marked as built, despite not being actually built, which may cause failures down the line. Make sure to implement a proper `build()` method.\n",
      "  warnings.warn(\n",
      "I0000 00:00:1751900781.584195   21748 cuda_dnn.cc:529] Loaded cuDNN version 90300\n"
     ]
    },
    {
     "name": "stdout",
     "output_type": "stream",
     "text": [
      "batch_idx: 6/6\n",
      "Proxy A-Distance:  1.625 \n",
      "\n",
      "epoch 1/3 Average Training Loss: 0.317155\n",
      "epoch 1/3 Average Estimation Loss (in Source domain): 0.253999\n",
      "epoch 1/3 Average Domain Discrimination Loss: 0.690149\n",
      "epoch 1/3 For observation only - Average Estimation Loss in Target domain: 0.181400\n",
      "Unpack H_sample and save for visualization\n",
      "epoch 1/3 (Val) Average Validating Loss: 0.194662\n",
      "epoch 1/3 (Val) Average Estimation Loss (in Source domain): 0.215938\n",
      "epoch 1/3 (Val) Average Domain Discrimination Loss: 0.174338\n",
      "epoch 1/3 (Val) For observation only - Average Estimation Loss in Target domain: 0.173386\n",
      "batch_idx: 1/6\n",
      "batch_idx: 6/6\n",
      "Proxy A-Distance:  1.625 \n",
      "\n",
      "epoch 2/3 Average Training Loss: 0.242562\n",
      "epoch 2/3 Average Estimation Loss (in Source domain): 0.235076\n",
      "epoch 2/3 Average Domain Discrimination Loss: 0.645722\n",
      "epoch 2/3 For observation only - Average Estimation Loss in Target domain: 0.184346\n",
      "Unpack H_sample and save for visualization\n",
      "epoch 2/3 (Val) Average Validating Loss: 0.189474\n",
      "epoch 2/3 (Val) Average Estimation Loss (in Source domain): 0.202192\n",
      "epoch 2/3 (Val) Average Domain Discrimination Loss: 0.160846\n",
      "epoch 2/3 (Val) For observation only - Average Estimation Loss in Target domain: 0.176757\n",
      "batch_idx: 1/6\n",
      "batch_idx: 6/6\n",
      "Proxy A-Distance:  1.625 \n",
      "\n",
      "epoch 3/3 Average Training Loss: 0.179742\n",
      "epoch 3/3 Average Estimation Loss (in Source domain): 0.223325\n",
      "epoch 3/3 Average Domain Discrimination Loss: 0.577450\n",
      "epoch 3/3 For observation only - Average Estimation Loss in Target domain: 0.187731\n",
      "Unpack H_sample and save for visualization\n"
     ]
    },
    {
     "name": "stderr",
     "output_type": "stream",
     "text": [
      "/home/thien/Code/H_predict_UDA/H_predict_Sionna/Est_btween_CSIRS/helper/plotfig.py:50: RuntimeWarning: More than 20 figures have been opened. Figures created through the pyplot interface (`matplotlib.pyplot.figure`) are retained until explicitly closed and may consume too much memory. (To control this warning, see the rcParam `figure.max_open_warning`). Consider using `matplotlib.pyplot.close()`.\n",
      "  plt.figure(figsize=(10, 5))\n"
     ]
    },
    {
     "name": "stdout",
     "output_type": "stream",
     "text": [
      "epoch 3/3 (Val) Average Validating Loss: 0.188021\n",
      "epoch 3/3 (Val) Average Estimation Loss (in Source domain): 0.195288\n",
      "epoch 3/3 (Val) Average Domain Discrimination Loss: 0.147829\n",
      "epoch 3/3 (Val) For observation only - Average Estimation Loss in Target domain: 0.180755\n"
     ]
    },
    {
     "data": {
      "text/plain": [
       "<Figure size 1000x500 with 0 Axes>"
      ]
     },
     "metadata": {},
     "output_type": "display_data"
    },
    {
     "data": {
      "text/plain": [
       "<Figure size 1000x500 with 0 Axes>"
      ]
     },
     "metadata": {},
     "output_type": "display_data"
    },
    {
     "data": {
      "text/plain": [
       "<Figure size 200x600 with 0 Axes>"
      ]
     },
     "metadata": {},
     "output_type": "display_data"
    },
    {
     "data": {
      "text/plain": [
       "<Figure size 1000x500 with 0 Axes>"
      ]
     },
     "metadata": {},
     "output_type": "display_data"
    },
    {
     "data": {
      "text/plain": [
       "<Figure size 1000x500 with 0 Axes>"
      ]
     },
     "metadata": {},
     "output_type": "display_data"
    },
    {
     "data": {
      "text/plain": [
       "<Figure size 1000x500 with 0 Axes>"
      ]
     },
     "metadata": {},
     "output_type": "display_data"
    },
    {
     "data": {
      "text/plain": [
       "<Figure size 200x600 with 0 Axes>"
      ]
     },
     "metadata": {},
     "output_type": "display_data"
    },
    {
     "data": {
      "text/plain": [
       "<Figure size 1000x500 with 0 Axes>"
      ]
     },
     "metadata": {},
     "output_type": "display_data"
    },
    {
     "data": {
      "text/plain": [
       "<Figure size 1000x500 with 0 Axes>"
      ]
     },
     "metadata": {},
     "output_type": "display_data"
    },
    {
     "data": {
      "text/plain": [
       "<Figure size 1000x500 with 0 Axes>"
      ]
     },
     "metadata": {},
     "output_type": "display_data"
    },
    {
     "data": {
      "text/plain": [
       "<Figure size 1000x500 with 0 Axes>"
      ]
     },
     "metadata": {},
     "output_type": "display_data"
    },
    {
     "data": {
      "text/plain": [
       "<Figure size 1000x500 with 0 Axes>"
      ]
     },
     "metadata": {},
     "output_type": "display_data"
    },
    {
     "data": {
      "text/plain": [
       "<Figure size 1000x500 with 0 Axes>"
      ]
     },
     "metadata": {},
     "output_type": "display_data"
    },
    {
     "data": {
      "text/plain": [
       "<Figure size 1000x500 with 0 Axes>"
      ]
     },
     "metadata": {},
     "output_type": "display_data"
    },
    {
     "data": {
      "text/plain": [
       "<Figure size 1000x500 with 0 Axes>"
      ]
     },
     "metadata": {},
     "output_type": "display_data"
    },
    {
     "data": {
      "text/plain": [
       "<Figure size 1000x500 with 0 Axes>"
      ]
     },
     "metadata": {},
     "output_type": "display_data"
    },
    {
     "data": {
      "text/plain": [
       "<Figure size 1000x500 with 0 Axes>"
      ]
     },
     "metadata": {},
     "output_type": "display_data"
    },
    {
     "data": {
      "text/plain": [
       "<Figure size 1000x500 with 0 Axes>"
      ]
     },
     "metadata": {},
     "output_type": "display_data"
    },
    {
     "data": {
      "text/plain": [
       "<Figure size 1000x500 with 0 Axes>"
      ]
     },
     "metadata": {},
     "output_type": "display_data"
    },
    {
     "data": {
      "text/plain": [
       "<Figure size 1000x500 with 0 Axes>"
      ]
     },
     "metadata": {},
     "output_type": "display_data"
    },
    {
     "data": {
      "text/plain": [
       "<Figure size 1000x500 with 0 Axes>"
      ]
     },
     "metadata": {},
     "output_type": "display_data"
    },
    {
     "data": {
      "text/plain": [
       "<Figure size 1000x500 with 0 Axes>"
      ]
     },
     "metadata": {},
     "output_type": "display_data"
    },
    {
     "data": {
      "text/plain": [
       "<Figure size 1000x500 with 0 Axes>"
      ]
     },
     "metadata": {},
     "output_type": "display_data"
    },
    {
     "data": {
      "text/plain": [
       "<Figure size 1000x500 with 0 Axes>"
      ]
     },
     "metadata": {},
     "output_type": "display_data"
    },
    {
     "data": {
      "text/plain": [
       "<Figure size 1000x500 with 0 Axes>"
      ]
     },
     "metadata": {},
     "output_type": "display_data"
    },
    {
     "data": {
      "text/plain": [
       "<Figure size 1000x500 with 0 Axes>"
      ]
     },
     "metadata": {},
     "output_type": "display_data"
    },
    {
     "data": {
      "text/plain": [
       "<Figure size 1000x500 with 0 Axes>"
      ]
     },
     "metadata": {},
     "output_type": "display_data"
    }
   ],
   "source": [
    "from tensorflow.keras import optimizers, losses\n",
    "\n",
    "# n_epochs= 70\n",
    "# epoch_min = 30\n",
    "# epoch_step = 10\n",
    "n_epochs= 3\n",
    "epoch_min = 0\n",
    "epoch_step = 1\n",
    "\n",
    "train_mode = ['FiLM']\n",
    "\n",
    "for sub_folder in train_mode:\n",
    "    print(f\"Processing: {sub_folder}\")\n",
    "    \n",
    "    if not os.path.exists(os.path.dirname(model_path + '/' + sub_folder +'/')):\n",
    "        os.makedirs(os.path.dirname(model_path + '/' + sub_folder + '/'))\n",
    "\n",
    "    train_loss          = [] # (epoch,1)\n",
    "    train_est_loss      = [] \n",
    "    train_domain_loss   = []\n",
    "    train_est_loss_target = []\n",
    "    #    \n",
    "    val_loss, val_domain_loss_source, val_domain_loss_target, val_domain_loss,\\\n",
    "    val_est_loss_source, val_est_loss_target, val_est_loss,\\\n",
    "    source_acc, target_acc, acc,\\\n",
    "    nmse_val_source, nmse_val_target, nmse_val = [[] for _ in range(13)]\n",
    "    #\n",
    "    H_to_save = {}          # list to save to .mat file for H\n",
    "    perform_to_save = {}    # list to save to .mat file for nmse, losses,...\n",
    "\n",
    "    model = utils_UDA_FiLM.UDA_FiLM(domain_disc = domain_disc, extract_layer=extract_layer, first_layer_disc=first_layer_disc)\n",
    "    optimizer = tf.keras.optimizers.Adam(learning_rate=learning_rate)\n",
    "    \n",
    "    flag = 1 # flag to plot and save H_true\n",
    "    pad = []\n",
    "    epoc_pad = []\n",
    "    for epoch in range(n_epochs):\n",
    "        # ===================== Training =====================\n",
    "        loader_H_true_train_source.reset()\n",
    "        loader_H_1_6_11_train_source.reset()\n",
    "        loader_H_true_train_target.reset()\n",
    "        loader_H_1_6_11_train_target.reset()\n",
    "                \n",
    "        loader_H = [loader_H_1_6_11_train_source, loader_H_true_train_source, loader_H_1_6_11_train_target, loader_H_true_train_target]\n",
    "        loss_fn = [loss_fn_ce, loss_fn_domain, optimizer]\n",
    "        ##########################\n",
    "        if epoch in [int(n_epochs * r) for r in [0.25, 0.5, 0.75, 1.0]]:\n",
    "            # return_features == return features to calculate PAD\n",
    "            return_features = True\n",
    "            epoc_pad.append(epoch)\n",
    "        else:\n",
    "            return_features = False\n",
    "        # return_features = True\n",
    "        if return_features==True:\n",
    "            alpha_list = [0.0001, 0.001, 0.01]\n",
    "            sgd_classifiers = [\n",
    "                SGDClassifier(alpha=alpha, loss='log_loss', max_iter=5000, tol=1e-5, random_state=42)\n",
    "                for alpha in alpha_list\n",
    "            ]\n",
    "\n",
    "        ##########################\n",
    "        train_step_output = utils_UDA_FiLM.train_step2(model, sgd_classifiers, loader_H, loss_fn, lower_range,\n",
    "                                lambda_domain=lambda_domain, return_features=return_features)\n",
    "        train_epoc_loss_est        = train_step_output.avg_epoc_loss_est\n",
    "        train_epoc_loss_domain     = train_step_output.avg_epoc_loss_domain\n",
    "        train_epoc_loss            = train_step_output.avg_epoc_loss\n",
    "        train_epoc_loss_est_target = train_step_output.avg_epoc_loss_est_target\n",
    "                # train_epoc_loss        = total train loss = loss_est + lambda_domain * domain_loss\n",
    "                # train_epoc_loss_est    = loss in estimation network in source domain (labels available)\n",
    "                # train_epoc_loss_domain = loss in domain discrimination network\n",
    "                # train_epoc_loss_est_target - just to monitor - the machine can not calculate because no label available in source domain\n",
    "                # All are already calculated in average over training dataset (source/target - respectively)\n",
    "        # Calculate PAD for the extracted features\n",
    "        if return_features:\n",
    "            pad_epoc_i  = train_step_output.pad\n",
    "            pad.append(pad_epoc_i)\n",
    "            \n",
    "        \n",
    "        # Average loss for the epoch\n",
    "        train_loss.append(train_epoc_loss)\n",
    "        print(f\"epoch {epoch+1}/{n_epochs} Average Training Loss: {train_epoc_loss:.6f}\")\n",
    "        #\n",
    "        train_est_loss.append(train_epoc_loss_est)\n",
    "        print(f\"epoch {epoch+1}/{n_epochs} Average Estimation Loss (in Source domain): {train_epoc_loss_est:.6f}\")\n",
    "        #\n",
    "        train_domain_loss.append(train_epoc_loss_domain)\n",
    "        print(f\"epoch {epoch+1}/{n_epochs} Average Domain Discrimination Loss: {train_epoc_loss_domain:.6f}\")\n",
    "        #\n",
    "        train_est_loss_target.append(train_epoc_loss_est_target)\n",
    "        print(f\"epoch {epoch+1}/{n_epochs} For observation only - Average Estimation Loss in Target domain: {train_epoc_loss_est_target:.6f}\")\n",
    "        \n",
    "        \n",
    "        # ===================== Evaluation =====================\n",
    "        loader_H_true_val_source.reset()\n",
    "        loader_H_1_6_11_val_source.reset()\n",
    "        loader_H_true_val_target.reset()\n",
    "        loader_H_1_6_11_val_target.reset()\n",
    "        loader_H_eval = [loader_H_1_6_11_val_source, loader_H_true_val_source, loader_H_1_6_11_val_target, loader_H_true_val_target]\n",
    "\n",
    "        loss_fn = loss_fn_ce, loss_fn_domain\n",
    "        \n",
    "        eval_func = utils_UDA_FiLM.val_step\n",
    "        if (epoch+1>epoch_min and epoch%epoch_step==0) or epoch==n_epochs-1:\n",
    "            H_sample, epoc_val_return = utils_UDA_FiLM.val_step(model, loader_H_eval, loss_fn, lower_range, epoch=epoch, lambda_domain=lambda_domain)\n",
    "            print('Unpack H_sample and save for visualization')\n",
    "            (\n",
    "                H_true_sample,  H_input_sample, H_est_sample, H_input_condition, \n",
    "                nmse_input_source, nmse_est_source, domain_sample_return_source,\n",
    "                H_true_sample_target, H_input_sample_target, H_est_sample_target, H_input_condition_target,\n",
    "                nmse_input_target, nmse_est_target, domain_sample_return_target\n",
    "            ) = H_sample\n",
    "            \n",
    "            # plot real parts\n",
    "            # source domain\n",
    "            if flag == 1:\n",
    "                plotfig.figChan(H_true_sample[0,:,:,0], title='True channel Slot 6', index_save=epoch+1, \n",
    "                                        figure_save_path=model_path + '/' + sub_folder + '/H_visualize', name='H_true_source')\n",
    "                plotfig.figChan(H_input_sample[0,:,:,0], nmse=nmse_input_source[0], title='Raw-estimated Channel Slot 6', index_save=epoch+1, \n",
    "                                        figure_save_path=model_path + '/' + sub_folder + '/H_visualize', name='H_input_source')\n",
    "                # if sub_folder == 'in_15_symbs' or sub_folder == 'FiLM':\n",
    "                plotfig.figChan(H_input_condition[0,:,0,0], title='Condition Channel', index_save=epoch+1, \n",
    "                                        figure_save_path=model_path + '/' + sub_folder + '/H_visualize', name='H_input_condition_source')\n",
    "            plotfig.figChan(H_est_sample[0,:,:,0], nmse=nmse_est_source[0], title='CNN-refined Channel Slot 6', index_save=epoch+1, \n",
    "                                        figure_save_path=model_path + '/' + sub_folder + '/H_visualize', name='H_CNN_source')\n",
    "            # target domain\n",
    "            if flag == 1:\n",
    "                plotfig.figChan(H_true_sample_target[0,:,:,0], title='True channel Slot 6', index_save=epoch+1, \n",
    "                                        figure_save_path=model_path + '/' + sub_folder + '/H_visualize', name='H_true_target')\n",
    "                plotfig.figChan(H_input_sample_target[0,:,:,0], nmse=nmse_input_target[0], title='Raw-estimated Channel Slot 6', index_save=epoch+1, \n",
    "                                        figure_save_path=model_path + '/' + sub_folder + '/H_visualize', name='H_input_target')\n",
    "                # if sub_folder == 'in_15_symbs' or sub_folder == 'FiLM':\n",
    "                plotfig.figChan(H_input_condition_target[0,:,0,0], title='Condition Channel', index_save=epoch+1, \n",
    "                                        figure_save_path=model_path + '/' + sub_folder + '/H_visualize', name='H_input_condition_target')\n",
    "                flag = 0\n",
    "            plotfig.figChan(H_est_sample[0,:,:,0], nmse=nmse_est_target[0], title='CNN-refined Channel Slot 6', index_save=epoch+1, \n",
    "                                        figure_save_path=model_path + '/' + sub_folder + '/H_visualize', name='H_CNN_target')\n",
    "            \n",
    "            H_to_save[f'{epoch+1}_H_true_source'] = H_true_sample\n",
    "            H_to_save[f'{epoch+1}_H_input_source'] = H_input_sample\n",
    "            H_to_save[f'{epoch+1}_H_est_source'] = H_est_sample\n",
    "            H_to_save[f'{epoch+1}_H_input_condition_source'] = H_input_condition\n",
    "                # don't save nmse_input_source, nmse_est_source because can compute them later\n",
    "            H_to_save[f'{epoch+1}_domain_sample_return_source'] = domain_sample_return_source\n",
    "            #\n",
    "            H_to_save[f'{epoch+1}_H_true_target'] = H_true_sample_target\n",
    "            H_to_save[f'{epoch+1}_H_input_target'] = H_input_sample_target\n",
    "            H_to_save[f'{epoch+1}_H_est_target'] = H_est_sample_target\n",
    "            H_to_save[f'{epoch+1}_H_input_condition_target'] = H_input_condition_target\n",
    "            H_to_save[f'{epoch+1}_domain_sample_return_target'] = domain_sample_return_target\n",
    "            \n",
    "        else:\n",
    "            _, epoc_val_return = utils_UDA_FiLM.val_step(model, loader_H_eval, loss_fn, lower_range, lambda_domain=lambda_domain)\n",
    "        \n",
    "        (\n",
    "            avg_epoc_total_loss, \n",
    "            avg_epoc_val_domain_loss_source, avg_epoc_val_domain_loss_target, avg_epoc_val_domain_loss,\n",
    "            avg_epoc_val_est_loss_source, avg_epoc_val_est_loss_target, avg_epoc_val_est_loss,\n",
    "            avg_epoc_source_acc, avg_epoc_target_acc, avg_epoc_acc,\n",
    "            avg_epoc_nmse_val_source, avg_epoc_nmse_val_target, avg_epoc_nmse_val\n",
    "        ) = epoc_val_return\n",
    "        # Average loss for the epoch\n",
    "        val_est_loss.append(avg_epoc_val_est_loss)\n",
    "        print(f\"epoch {epoch+1}/{n_epochs} (Val) Average Validating Loss: {avg_epoc_val_est_loss:.6f}\")\n",
    "        #\n",
    "        val_est_loss_source.append(avg_epoc_val_est_loss_source)\n",
    "        print(f\"epoch {epoch+1}/{n_epochs} (Val) Average Estimation Loss (in Source domain): {avg_epoc_val_est_loss_source:.6f}\")\n",
    "        #\n",
    "        val_loss.append(avg_epoc_total_loss)\n",
    "        print(f\"epoch {epoch+1}/{n_epochs} (Val) Average Domain Discrimination Loss: {avg_epoc_total_loss:.6f}\")\n",
    "        #\n",
    "        val_est_loss_target.append(avg_epoc_val_est_loss_target)\n",
    "        print(f\"epoch {epoch+1}/{n_epochs} (Val) For observation only - Average Estimation Loss in Target domain: {avg_epoc_val_est_loss_target:.6f}\")\n",
    "        #\n",
    "        val_domain_loss_source.append(avg_epoc_val_domain_loss_source)\n",
    "        val_domain_loss_target.append(avg_epoc_val_domain_loss_target)\n",
    "        val_domain_loss.append(avg_epoc_val_domain_loss)\n",
    "        source_acc.append(avg_epoc_source_acc)\n",
    "        target_acc.append(avg_epoc_target_acc)\n",
    "        acc.append(avg_epoc_acc)\n",
    "        nmse_val_source.append(avg_epoc_nmse_val_source)\n",
    "        nmse_val_target.append(avg_epoc_nmse_val_target)\n",
    "        nmse_val.append(avg_epoc_nmse_val)\n",
    "        \n",
    "        \n",
    "        if (epoch+1>epoch_min and (epoch+1)%epoch_step==0) or epoch==n_epochs-1:\n",
    "            # Save model\n",
    "            os.makedirs(f\"{model_path}/{sub_folder}/model/\", exist_ok=True)\n",
    "            if save_model:\n",
    "                model.save(f\"{model_path}/{sub_folder}/model/epoch_{epoch+1}.keras\")\n",
    "                print(f\"Model saved at epoch {epoch+1} to {model_path}/{sub_folder}/epoch_{epoch+1}\")    \n",
    "            \n",
    "            # === save and overwrite at checkpoints\n",
    "            # train\n",
    "            perform_to_save['train_loss'] = train_loss\n",
    "            perform_to_save['train_est_loss'] = train_est_loss\n",
    "            perform_to_save['train_domain_loss'] = train_domain_loss\n",
    "            perform_to_save['train_est_loss_target'] = train_est_loss_target\n",
    "            # val\n",
    "            perform_to_save['val_est_loss'] = val_est_loss\n",
    "            perform_to_save['val_est_loss_source'] = val_est_loss_source\n",
    "            perform_to_save['val_loss'] = val_loss\n",
    "            perform_to_save['val_est_loss_target'] = val_est_loss_target\n",
    "            perform_to_save['val_domain_loss_source'] = val_domain_loss_source\n",
    "            perform_to_save['val_domain_loss_target'] = val_domain_loss_target\n",
    "            perform_to_save['val_domain_loss'] = val_domain_loss\n",
    "            perform_to_save['source_acc'] = source_acc\n",
    "            perform_to_save['target_acc'] = target_acc\n",
    "            perform_to_save['acc'] = acc\n",
    "            perform_to_save['nmse_val_source'] = nmse_val_source\n",
    "            perform_to_save['nmse_val_target'] = nmse_val_target\n",
    "            perform_to_save['nmse_val'] = nmse_val\n",
    "            #\n",
    "            perform_to_save['pad'] = pad\n",
    "            perform_to_save['epoc_pad'] = epoc_pad\n",
    "            \n",
    "            # save\n",
    "            os.makedirs(f\"{model_path}/{sub_folder}/performance/\", exist_ok=True)\n",
    "            savemat(model_path + '/' + sub_folder + '/performance/performance.mat', perform_to_save)\n",
    "            \n",
    "            # Plot figures === save and overwrite at checkpoints\n",
    "            plotfig.figLoss(line_list=[(nmse_val_source, 'Source Domain'), (nmse_val_target, 'Target Domain')], xlabel='Epoch', ylabel='NMSE',\n",
    "                        title='NMSE in Validation', index_save=1, figure_save_path= model_path + '/' + sub_folder + '/performance', fig_name='NMSE_val')\n",
    "            plotfig.figLoss(line_list=[(source_acc, 'Source Domain'), (target_acc, 'Target Domain')], xlabel='Epoch', ylabel='Discrimination Accuracy',\n",
    "                        title='Domain Discrimination Accuracy in Validation', index_save=1, figure_save_path= model_path + '/' + sub_folder + '/performance', fig_name='Domain_acc')\n",
    "            #\n",
    "            plotfig.figLoss(line_list=[(train_loss, 'Training'), (val_loss, 'Validating')], xlabel='Epoch', ylabel='Total Loss',\n",
    "                        title='Training and Validating Total Loss', index_save=1, figure_save_path= model_path + '/' + sub_folder + '/performance', fig_name='Loss_total')\n",
    "            plotfig.figLoss(line_list=[(train_est_loss, 'Training-Source'), (train_est_loss_target, 'Training-Target'), \n",
    "                                    (val_est_loss_source, 'Validating-Source'), (val_est_loss_target, 'Validating-Target')], xlabel='Epoch', ylabel='Estimation Loss',\n",
    "                        title='Training and Validating Estimation Loss', index_save=1, figure_save_path= model_path + '/' + sub_folder + '/performance', fig_name='Loss_est')\n",
    "            plotfig.figLoss(line_list=[(train_domain_loss, 'Training'), (val_domain_loss, 'Validating')], xlabel='Epoch', ylabel='Domain Discrimination Loss',\n",
    "                        title='Training and Validating Domain Discrimination Loss', index_save=1, figure_save_path= model_path + '/' + sub_folder + '/performance', fig_name='Loss_domain')\n",
    "            \n",
    "    # end of epoch loop\n",
    "    # =====================            \n",
    "    # Save performances\n",
    "    # Save H matrix\n",
    "    savemat(model_path + '/' + sub_folder + '/H_visualize/H_trix.mat', H_to_save)\n",
    "    \n",
    "    "
   ]
  },
  {
   "cell_type": "code",
   "execution_count": null,
   "id": "81a72ffc",
   "metadata": {},
   "outputs": [
    {
     "data": {
      "image/png": "[encoded data removed]",
      "text/plain": [
       "<Figure size 1000x500 with 1 Axes>"
      ]
     },
     "metadata": {},
     "output_type": "display_data"
    },
    {
     "data": {
      "text/plain": [
       "<Figure size 640x480 with 0 Axes>"
      ]
     },
     "metadata": {},
     "output_type": "display_data"
    }
   ],
   "source": [
    "# plotfig.figLoss(line_list=[(nmse_val_source, 'Source Domain'), (nmse_val_target, 'Target Domain'), (nmse_val, 'Average')], xlabel='Epoch', ylabel='NMSE',\n",
    "#                         title='NMSE in Validation', index_save=1, fig_show=True, fig_name='NMSE_val')\n",
    "            "
   ]
  },
  {
   "cell_type": "code",
   "execution_count": null,
   "id": "a46571d2",
   "metadata": {},
   "outputs": [
    {
     "data": {
      "image/png": "[encoded data removed]",
      "text/plain": [
       "<Figure size 1000x500 with 1 Axes>"
      ]
     },
     "metadata": {},
     "output_type": "display_data"
    },
    {
     "data": {
      "text/plain": [
       "<Figure size 640x480 with 0 Axes>"
      ]
     },
     "metadata": {},
     "output_type": "display_data"
    }
   ],
   "source": [
    "# plotfig.figLoss(line_list=[(nmse_val_source, 'Source Domain')], xlabel='Epoch', ylabel='NMSE',\n",
    "#                         title='NMSE in Validation', index_save=1, fig_show=True, fig_name='NMSE_val')\n",
    "            "
   ]
  }
 ],
 "metadata": {
  "kernelspec": {
   "display_name": "TF_py311",
   "language": "python",
   "name": "python3"
  },
  "language_info": {
   "codemirror_mode": {
    "name": "ipython",
    "version": 3
   },
   "file_extension": ".py",
   "mimetype": "text/x-python",
   "name": "python",
   "nbconvert_exporter": "python",
   "pygments_lexer": "ipython3",
   "version": "3.11.11"
  }
 },
 "nbformat": 4,
 "nbformat_minor": 5
}
