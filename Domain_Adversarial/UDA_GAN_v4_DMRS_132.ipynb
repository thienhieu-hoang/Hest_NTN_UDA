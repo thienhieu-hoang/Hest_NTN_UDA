{
 "cells": [
  {
   "cell_type": "code",
   "execution_count": 1,
   "id": "465b0cc9",
   "metadata": {},
   "outputs": [
    {
     "name": "stderr",
     "output_type": "stream",
     "text": [
      "2025-10-10 16:51:21.613076: E external/local_xla/xla/stream_executor/cuda/cuda_fft.cc:467] Unable to register cuFFT factory: Attempting to register factory for plugin cuFFT when one has already been registered\n",
      "WARNING: All log messages before absl::InitializeLog() is called are written to STDERR\n",
      "E0000 00:00:1760129481.627660  116804 cuda_dnn.cc:8579] Unable to register cuDNN factory: Attempting to register factory for plugin cuDNN when one has already been registered\n",
      "E0000 00:00:1760129481.631914  116804 cuda_blas.cc:1407] Unable to register cuBLAS factory: Attempting to register factory for plugin cuBLAS when one has already been registered\n",
      "W0000 00:00:1760129481.642931  116804 computation_placer.cc:177] computation placer already registered. Please check linkage and avoid linking the same target more than once.\n",
      "W0000 00:00:1760129481.642943  116804 computation_placer.cc:177] computation placer already registered. Please check linkage and avoid linking the same target more than once.\n",
      "W0000 00:00:1760129481.642945  116804 computation_placer.cc:177] computation placer already registered. Please check linkage and avoid linking the same target more than once.\n",
      "W0000 00:00:1760129481.642946  116804 computation_placer.cc:177] computation placer already registered. Please check linkage and avoid linking the same target more than once.\n",
      "2025-10-10 16:51:21.646771: I tensorflow/core/platform/cpu_feature_guard.cc:210] This TensorFlow binary is optimized to use available CPU instructions in performance-critical operations.\n",
      "To enable the following instructions: AVX2 AVX512F FMA, in other operations, rebuild TensorFlow with the appropriate compiler flags.\n"
     ]
    }
   ],
   "source": [
    "import tensorflow as tf\n",
    "\n",
    "import os\n",
    "import sys\n",
    "import numpy as np\n",
    "from scipy.io import savemat\n",
    "from sklearn.linear_model import SGDClassifier\n",
    "\n",
    "# os.environ[\"CUDA_VISIBLE_DEVICES\"] = \"1\"\n",
    "sys.path.append(os.path.abspath('helper'))\n",
    "# import utils\n",
    "# import loader\n",
    "import utils_GAN, PAD"
   ]
  },
  {
   "cell_type": "code",
   "execution_count": 2,
   "id": "58487d45",
   "metadata": {},
   "outputs": [
    {
     "name": "stdout",
     "output_type": "stream",
     "text": [
      "/home/thien/Code/NTN/Hest_NTN_UDA/Domain_Adversarial\n",
      "/home/thien/Code/NTN\n"
     ]
    }
   ],
   "source": [
    "notebook_dir = os.getcwd()\n",
    "print(notebook_dir)\n",
    "print(os.path.abspath(os.path.join(notebook_dir, '..', '..')))\n",
    "sys.path.append(os.path.abspath(os.path.join(notebook_dir, '..', '..')))\n",
    "import utils\n",
    "import loader\n",
    "import plotfig"
   ]
  },
  {
   "cell_type": "code",
   "execution_count": 3,
   "id": "a8588be9",
   "metadata": {},
   "outputs": [
    {
     "name": "stderr",
     "output_type": "stream",
     "text": [
      "I0000 00:00:1760129485.948073  116804 gpu_device.cc:2019] Created device /job:localhost/replica:0/task:0/device:GPU:0 with 9543 MB memory:  -> device: 0, name: NVIDIA GeForce RTX 2080 Ti, pci bus id: 0000:1a:00.0, compute capability: 7.5\n",
      "I0000 00:00:1760129485.948618  116804 gpu_device.cc:2019] Created device /job:localhost/replica:0/task:0/device:GPU:1 with 9543 MB memory:  -> device: 1, name: NVIDIA GeForce RTX 2080 Ti, pci bus id: 0000:67:00.0, compute capability: 7.5\n",
      "I0000 00:00:1760129485.949085  116804 gpu_device.cc:2019] Created device /job:localhost/replica:0/task:0/device:GPU:2 with 9347 MB memory:  -> device: 2, name: NVIDIA GeForce RTX 2080 Ti, pci bus id: 0000:68:00.0, compute capability: 7.5\n",
      "I0000 00:00:1760129488.167771  116804 cuda_dnn.cc:529] Loaded cuDNN version 90300\n"
     ]
    },
    {
     "name": "stdout",
     "output_type": "stream",
     "text": [
      "(16, 132, 14, 2)\n",
      "(16, 3, 4, 1)\n",
      "(16, 7, 14, 256)\n"
     ]
    }
   ],
   "source": [
    "# Generate a (16, 792, 14, 2) matrix with random values\n",
    "random_matrix = np.random.randn(16, 132, 14, 2)\n",
    "random_matrix.shape\n",
    "\n",
    "GAN_model = utils_GAN.GAN(n_subc=132)\n",
    "out_put = GAN_model(random_matrix)\n",
    "print(out_put.gen_out.shape)\n",
    "print(out_put.disc_out.shape)\n",
    "print(out_put.extracted_features.shape)"
   ]
  },
  {
   "cell_type": "code",
   "execution_count": 4,
   "id": "7f90e823",
   "metadata": {},
   "outputs": [],
   "source": [
    "SNR = 0\n",
    "source_data_file_path_label = os.path.abspath(os.path.join(notebook_dir, '..', 'generatedChan', 'OpenNTN','H_perfect.mat'))\n",
    "source_data_file_path = os.path.abspath(os.path.join(notebook_dir, '..', 'generatedChan', 'OpenNTN', f'SNR_{SNR}dB','sionnaNTN.mat'))\n",
    "target_data_file_path = os.path.abspath(os.path.join(notebook_dir, '..', 'generatedChan', 'MATLAB', f'SNR_{SNR}dB','matlabNTN.mat'))"
   ]
  },
  {
   "cell_type": "code",
   "execution_count": 5,
   "id": "6803a541",
   "metadata": {},
   "outputs": [],
   "source": [
    "norm_approach = 'minmax' # can be set to 'std'\n",
    "lower_range = -1 \n",
    "    # if norm_approach = 'minmax': \n",
    "        # =  0 for scaling to  [0 1]\n",
    "        # = -1 for scaling to [-1 1]\n",
    "    # if norm_approach = 'std': can be any value, but need to be defined\n",
    "adv_weight=0.005\n",
    "est_weight=1\n",
    "domain_weight=0.5  # for Domain Discriminator, 0 for no Domain Discriminator\n",
    "\n",
    "# snr_start = -25\n",
    "# snr_step = 5\n",
    "# snr_end = 25\n",
    "# SNR = np.arange(snr_start, snr_end+1, snr_step)\n",
    "\n",
    "# SNR = np.array([0])\n",
    "\n",
    "# if len(SNR) >1:\n",
    "#     SNR_txt = f'{snr_start}:{snr_step}:{snr_end}'\n",
    "# else:\n",
    "#     SNR_txt = f'{SNR[0]}'\n",
    "    \n",
    "# ============ CNN settings ==============\n",
    "if norm_approach == 'minmax':\n",
    "    if lower_range == 0:\n",
    "        norm_txt = 'Using min-max [0 1]'\n",
    "    elif lower_range ==-1:\n",
    "        norm_txt = 'Using min-max [-1 1]'\n",
    "elif norm_approach == 'no':\n",
    "    norm_txt = 'No'\n",
    "    \n",
    "CNN_activation = 'Tanh'\n",
    "CNN_DropOut = 0.2\n",
    "if CNN_DropOut != 0:\n",
    "    dropOut_txt = f'Add p={CNN_DropOut} DropOut'\n",
    "    \n",
    "# ============ Adversarial for Domain Discriminator settings ==============\n",
    "    \n",
    "    \n",
    "# # create readme.txt file\n",
    "# content = f\"\"\"Generated by file 'Domain_Adversarial/UDA_CNN_v3.ipynb'.\n",
    "# 28 GHz fc,\n",
    "# Source dataset got from {source_data_file_path},\n",
    "# Target dataset got from {target_data_file_path},\n",
    "# Learning rate {learning_rate},\n",
    "# {norm_txt} scaler for each sample\n",
    "# Using {CNN_activation} as activation function of CNN\n",
    "# {dropOut_txt}\n",
    "# ========= For Domain Discriminator ==========\n",
    "# Extract features after layer {extract_layer} of CNN\n",
    "# {text_lambda}\n",
    "# \"\"\""
   ]
  },
  {
   "cell_type": "code",
   "execution_count": 6,
   "id": "73be6772",
   "metadata": {},
   "outputs": [],
   "source": [
    "# Paths to save\n",
    "idx_save_path = loader.find_incremental_filename(notebook_dir + '/model/GAN','ver', '_', '')\n",
    "\n",
    "save_model = 0\n",
    "model_path = notebook_dir + '/model/GAN/ver' + str(idx_save_path) + '_'\n",
    "# figure_path = notebook_dir + '/model/GAN/ver' + str(idx_save_path) + '_/figure'\n",
    "model_readme = model_path + '/readme.txt'\n",
    "# figure_readme = figure_path + '/readme.txt'\n",
    "\n",
    "# if not os.path.exists(os.path.dirname(model_readme)):\n",
    "#     os.makedirs(os.path.dirname(model_readme))\n",
    "# # if not os.path.exists(os.path.dirname(figure_readme)):\n",
    "# #     os.makedirs(os.path.dirname(figure_readme))\n",
    "\n",
    "# # Open the file in write mode ('w'). If the file does not exist, it will be created.\n",
    "# with open(model_readme, 'w') as file:\n",
    "#     # Write the content to the file\n",
    "#     file.write(content)\n",
    "\n",
    "# # with open(figure_readme, 'w') as file:\n",
    "# #     # Write the content to the file\n",
    "# #     file.write(content)\n",
    "\n",
    "# print(f\"File '{model_readme}'  created and content written.\")\n"
   ]
  },
  {
   "cell_type": "code",
   "execution_count": 7,
   "id": "6bc85339",
   "metadata": {},
   "outputs": [
    {
     "name": "stdout",
     "output_type": "stream",
     "text": [
      "N_samp_source =  2048\n",
      "N_samp_target =  2048\n"
     ]
    }
   ],
   "source": [
    "import h5py\n",
    "import scipy.io\n",
    "\n",
    "batch_size=16\n",
    "\n",
    "# ============ Source data ==============\n",
    "source_file_label = scipy.io.loadmat(source_data_file_path_label)\n",
    "source_file = h5py.File(source_data_file_path, 'r')\n",
    "H_true_source = source_file_label['H_perfect']\n",
    "H_true_source = H_true_source.transpose(2, 1, 0)\n",
    "N_samp_source = H_true_source.shape[0]\n",
    "print('N_samp_source = ', N_samp_source)\n",
    "\n",
    "# ============ Target data ==============\n",
    "target_file = h5py.File(target_data_file_path, 'r')\n",
    "H_true_target = target_file['H_perfect']\n",
    "N_samp_target = H_true_target.shape[0]\n",
    "print('N_samp_target = ', N_samp_target)"
   ]
  },
  {
   "cell_type": "code",
   "execution_count": 8,
   "id": "4247fd0c",
   "metadata": {},
   "outputs": [
    {
     "name": "stdout",
     "output_type": "stream",
     "text": [
      "train_size =  96\n",
      "val_size =  16\n"
     ]
    }
   ],
   "source": [
    "# Store random state \n",
    "rng_state = np.random.get_state()\n",
    "\n",
    "# --- Set a temporary seed for reproducible split ---\n",
    "np.random.seed(1234)   # any fixed integer seed\n",
    "# Random but repeatable split\n",
    "indices_source = np.arange(N_samp_source)\n",
    "np.random.shuffle(indices_source)\n",
    "indices_target = np.arange(N_samp_target)\n",
    "np.random.shuffle(indices_target)\n",
    "# Restore previous random state (so other code stays random)\n",
    "np.random.set_state(rng_state)\n",
    "#\n",
    "train_size = int(np.floor(N_samp_source * 0.9) // batch_size * batch_size)\n",
    "val_size = N_samp_source - train_size\n",
    "\n",
    "# Repeat the indices to match the maximum number of samples\n",
    "N_samp = max(N_samp_source, N_samp_target) \n",
    "indices_source = np.resize(indices_source, N_samp)\n",
    "indices_target = np.resize(indices_target, N_samp)\n",
    "\n",
    "# =======================================================\n",
    "## Divide the indices into training and validation sets\n",
    "# indices_train_source = indices_source[:train_size]\n",
    "# indices_val_source   = indices_source[train_size:train_size + val_size]\n",
    "\n",
    "# indices_train_target = indices_target[:train_size]\n",
    "# indices_val_target   = indices_target[train_size:train_size + val_size]\n",
    "\n",
    "# to test code\n",
    "indices_train_source = indices_source[:96]\n",
    "indices_val_source = indices_source[2032:]\n",
    "indices_train_target = indices_target[:96]\n",
    "indices_val_target = indices_target[2032:]\n",
    "\n",
    "print('train_size = ', indices_train_source.shape[0])\n",
    "print('val_size = ', indices_val_source.shape[0])"
   ]
  },
  {
   "cell_type": "code",
   "execution_count": 9,
   "id": "89b87483",
   "metadata": {},
   "outputs": [],
   "source": [
    "# # =========== Source dataset ==============\n",
    "# loader_H_true_train_source = utils.H5BatchLoader(source_file_label, dataset_name='H_perfect', batch_size=batch_size, shuffled_indices=indices_train_source)\n",
    "# loader_H_practical_train_source = utils.H5BatchLoader(source_file, 'H_prac', batch_size=batch_size, shuffled_indices=indices_train_source)\n",
    "# loader_H_linear_train_source = utils.H5BatchLoader(source_file, 'H_li', batch_size=batch_size, shuffled_indices=indices_train_source)\n",
    "# loader_H_ls_train_source = utils.H5BatchLoader(source_file, 'H_ls', batch_size=batch_size, shuffled_indices=indices_train_source)\n",
    "\n",
    "\n",
    "# loader_H_true_val_source = utils.H5BatchLoader(source_file_label, dataset_name='H_perfect', batch_size=batch_size, shuffled_indices=indices_val_source)\n",
    "# loader_H_practical_val_source = utils.H5BatchLoader(source_file, 'H_prac', batch_size=batch_size, shuffled_indices=indices_val_source)\n",
    "# loader_H_linear_val_source = utils.H5BatchLoader(source_file, 'H_li', batch_size=batch_size, shuffled_indices=indices_val_source)\n",
    "# loader_H_ls_val_source = utils.H5BatchLoader(source_file, 'H_ls', batch_size=batch_size, shuffled_indices=indices_val_source)\n",
    "\n",
    "# # =========== Target dataset ==============\n",
    "# loader_H_true_train_target = utils.H5BatchLoader(target_file, dataset_name='H_perfect', batch_size=batch_size, shuffled_indices=indices_train_target)\n",
    "#     # actually at target domain, we don't have true channels, just use this for evaluating the model\n",
    "# loader_H_practical_train_target = utils.H5BatchLoader(target_file, 'H_prac', batch_size=batch_size, shuffled_indices=indices_train_target)\n",
    "# loader_H_linear_train_target = utils.H5BatchLoader(target_file, 'H_li', batch_size=batch_size, shuffled_indices=indices_train_target)\n",
    "# loader_H_ls_train_target = utils.H5BatchLoader(target_file, 'H_ls', batch_size=batch_size, shuffled_indices=indices_train_target)\n",
    "\n",
    "# loader_H_true_val_target = utils.H5BatchLoader(target_file, dataset_name='H_perfect', batch_size=batch_size, shuffled_indices=indices_val_target)\n",
    "# loader_H_practical_val_target = utils.H5BatchLoader(target_file, 'H_prac', batch_size=batch_size, shuffled_indices=indices_val_target)\n",
    "# loader_H_linear_val_target = utils.H5BatchLoader(target_file, 'H_li', batch_size=batch_size, shuffled_indices=indices_val_target)\n",
    "# loader_H_ls_val_target = utils.H5BatchLoader(target_file, 'H_ls', batch_size=batch_size, shuffled_indices=indices_val_target)\n",
    "\n",
    "# print('size loader_H_true_train = ', loader_H_true_train_target.total_batches)\n",
    "# print('size loader_H_true_val = ', loader_H_true_val_target.total_batches)"
   ]
  },
  {
   "cell_type": "code",
   "execution_count": 10,
   "id": "2bdf7c13",
   "metadata": {},
   "outputs": [],
   "source": [
    "class DataLoaders:\n",
    "    def __init__(self, file, indices_train, indices_val, tag='prac', batch_size=32): \n",
    "        # tag = 'prac' or 'li' or 'ls'\n",
    "        self.true_train = utils.H5BatchLoader(file, dataset_name='H_perfect', batch_size=batch_size, shuffled_indices=indices_train)\n",
    "        self.true_val = utils.H5BatchLoader(file, dataset_name='H_perfect', batch_size=batch_size, shuffled_indices=indices_val)\n",
    "\n",
    "        self.input_train = utils.H5BatchLoader(file, f'H_{tag}', batch_size=batch_size, shuffled_indices=indices_train)\n",
    "        self.input_val = utils.H5BatchLoader(file, f'H_{tag}', batch_size=batch_size, shuffled_indices=indices_val)\n",
    "\n",
    "# Source domain\n",
    "class_dict_source = {\n",
    "    'GAN_practical': DataLoaders(source_file, indices_train_source, indices_val_source, tag='prac', batch_size=batch_size),\n",
    "    'GAN_linear': DataLoaders(source_file, indices_train_source, indices_val_source, tag='li', batch_size=batch_size),\n",
    "    'GAN_ls': DataLoaders(source_file, indices_train_source, indices_val_source, tag='ls', batch_size=batch_size)\n",
    "}\n",
    "\n",
    "# Target domain\n",
    "class_dict_target = {\n",
    "    'GAN_practical': DataLoaders(target_file, indices_train_target, indices_val_target, tag='prac', batch_size=batch_size),\n",
    "    'GAN_linear': DataLoaders(target_file, indices_train_target, indices_val_target, tag='li', batch_size=batch_size),\n",
    "    'GAN_ls': DataLoaders(target_file, indices_train_target, indices_val_target, tag='ls', batch_size=batch_size)\n",
    "}"
   ]
  },
  {
   "cell_type": "code",
   "execution_count": 11,
   "id": "363fec1c",
   "metadata": {},
   "outputs": [],
   "source": [
    "loss_fn_ce = tf.keras.losses.MeanSquaredError()  # Channel estimation loss (generator loss)\n",
    "loss_fn_bce = tf.keras.losses.BinaryCrossentropy(from_logits=False) # Binary cross-entropy loss for discriminator\n",
    "loss_fn_domain = tf.keras.losses.BinaryCrossentropy()  # Domain classification loss"
   ]
  },
  {
   "cell_type": "code",
   "execution_count": 12,
   "id": "e1d67064",
   "metadata": {},
   "outputs": [
    {
     "name": "stdout",
     "output_type": "stream",
     "text": [
      "Processing: GAN_practical\n",
      "X shape =  (192, 528)\n",
      "X1 shape =  (96, 528) y1 shape =  (96,)\n",
      "(96, 528) (96,)\n",
      "C: 0.01, Error rate: 0.5208\n",
      "C: 0.1, Error rate: 0.5208\n",
      "C: 0.5, Error rate: 0.2604\n",
      "C: 1.0, Error rate: 0.2083\n",
      "C: 2.0, Error rate: 0.1667\n",
      "C: 5.0, Error rate: 0.1875\n",
      "C: 10.0, Error rate: 0.1562\n",
      "C: 50.0, Error rate: 0.1354\n",
      "C: 100.0, Error rate: 0.1250\n",
      "C: 500.0, Error rate: 0.1354\n",
      "C: 1000.0, Error rate: 0.1354\n",
      "Best C: 100.0, Best error rate: 0.1250\n",
      "PAD = 1.5000\n",
      "PAD = 1.5000\n",
      "Fitted PCA on batch: source 96/96, target 96/96\n",
      "Reduced source shape: (96, 100), target shape: (96, 100)\n",
      "== C: 0.01, Error rate: 0.5208\n",
      "== C: 0.1, Error rate: 0.5208\n",
      "== C: 0.5, Error rate: 0.2292\n",
      "== C: 1.0, Error rate: 0.1771\n",
      "== C: 2.0, Error rate: 0.1562\n",
      "== C: 5.0, Error rate: 0.1250\n",
      "== C: 10.0, Error rate: 0.1042\n",
      "== C: 50.0, Error rate: 0.0833\n",
      "== C: 100.0, Error rate: 0.0625\n",
      "== C: 500.0, Error rate: 0.0625\n",
      "== C: 1000.0, Error rate: 0.0625\n",
      "Best C: 100.0, Best error rate: 0.0625\n",
      "============ PAD (SVM) = 1.7500\n",
      "LDA Error rate: 0.3125\n",
      "============ PAD (LDA) = 0.7500\n",
      "Logistic Regression Error rate: 0.5208\n",
      "Flip the predictions\n",
      "============ PAD (LogReg) = 0.0833\n",
      "Time 12.585973972920328 seconds\n",
      "epoch 1/5\n",
      "Fitting IncrementalPCA on batches from features_source.h5 and features_target.h5\n",
      "Fitted PCA on batch: source 96/96, target 96/96\n",
      "Reduced source shape: (96, 100), target shape: (96, 100)\n",
      "== C: 0.01, Error rate: 0.5208\n",
      "== C: 0.1, Error rate: 0.1146\n",
      "== C: 0.5, Error rate: 0.0417\n",
      "== C: 1.0, Error rate: 0.0208\n",
      "== C: 2.0, Error rate: 0.0208\n",
      "== C: 5.0, Error rate: 0.0208\n",
      "== C: 10.0, Error rate: 0.0208\n",
      "== C: 50.0, Error rate: 0.0208\n",
      "== C: 100.0, Error rate: 0.0208\n",
      "== C: 500.0, Error rate: 0.0208\n",
      "== C: 1000.0, Error rate: 0.0208\n",
      "Best C: 1.0, Best error rate: 0.0208\n",
      "============ PAD (SVM) = 1.9167\n",
      "LDA Error rate: 0.1250\n",
      "============ PAD (LDA) = 1.5000\n",
      "Logistic Regression Error rate: 0.0104\n",
      "============ PAD (LogReg) = 1.9583\n",
      "Time 223.4967463966459 seconds\n",
      "epoch 1/5 Average Training Loss: 0.455473\n",
      "epoch 1/5 Average Estimation Loss (in Source domain): 0.275359\n",
      "epoch 1/5 Average Disc Loss (in Source domain): 45966.535156\n",
      "epoch 1/5 Average Domain Discrimination Loss: 0.783352\n",
      "epoch 1/5 For observation only - Average Estimation Loss in Target domain: 2.875104\n",
      "epoch 1/5 (Val) Weighted Total Loss: 209.604584\n",
      "epoch 1/5 (Val) Average Estimation Loss (mean): 2.460482\n",
      "epoch 1/5 (Val) Average Estimation Loss (Source): 0.424316\n",
      "epoch 1/5 (Val) Average Estimation Loss (Target): 4.496647\n",
      "epoch 1/5 (Val) GAN Discriminator Loss: 41266.050781\n",
      "epoch 1/5 (Val) Domain Discriminator Loss: 1.627730\n",
      "epoch 1/5 (Val) NMSE (Source): 0.150591, NMSE (Target): 2.119763, NMSE (Mean): 1.135177\n",
      "epoch 1/5 (Val) Domain Discriminator Accuracy (Average): 0.0312\n"
     ]
    },
    {
     "name": "stderr",
     "output_type": "stream",
     "text": [
      "/home/thien/Code/NTN/Hest_NTN_UDA/Domain_Adversarial/helper/plotfig.py:12: RuntimeWarning: More than 20 figures have been opened. Figures created through the pyplot interface (`matplotlib.pyplot.figure`) are retained until explicitly closed and may consume too much memory. (To control this warning, see the rcParam `figure.max_open_warning`). Consider using `matplotlib.pyplot.close()`.\n",
      "  plt.figure(figsize=(10, 5))\n"
     ]
    },
    {
     "name": "stdout",
     "output_type": "stream",
     "text": [
      "Time 229.07890415890142 seconds\n",
      "epoch 2/5\n",
      "Fitting IncrementalPCA on batches from features_source.h5 and features_target.h5\n",
      "Fitted PCA on batch: source 96/96, target 96/96\n",
      "Reduced source shape: (96, 100), target shape: (96, 100)\n",
      "== C: 0.01, Error rate: 0.5208\n",
      "== C: 0.1, Error rate: 0.1146\n",
      "== C: 0.5, Error rate: 0.0417\n",
      "== C: 1.0, Error rate: 0.0208\n",
      "== C: 2.0, Error rate: 0.0208\n",
      "== C: 5.0, Error rate: 0.0208\n",
      "== C: 10.0, Error rate: 0.0208\n",
      "== C: 50.0, Error rate: 0.0208\n",
      "== C: 100.0, Error rate: 0.0208\n",
      "== C: 500.0, Error rate: 0.0208\n",
      "== C: 1000.0, Error rate: 0.0208\n",
      "Best C: 1.0, Best error rate: 0.0208\n",
      "============ PAD (SVM) = 1.9167\n",
      "LDA Error rate: 0.1979\n",
      "============ PAD (LDA) = 1.2083\n",
      "Logistic Regression Error rate: 0.0104\n",
      "============ PAD (LogReg) = 1.9583\n"
     ]
    },
    {
     "name": "stderr",
     "output_type": "stream",
     "text": [
      "/home/thien/miniconda3/envs/TF_py311/lib/python3.11/site-packages/ot/bregman/_sinkhorn.py:631: RuntimeWarning: divide by zero encountered in divide\n",
      "  u = 1.0 / nx.dot(Kp, v)\n",
      "/home/thien/miniconda3/envs/TF_py311/lib/python3.11/site-packages/ot/bregman/_sinkhorn.py:642: UserWarning: Warning: numerical errors at iteration 0\n",
      "  warnings.warn(\"Warning: numerical errors at iteration %d\" % ii)\n"
     ]
    },
    {
     "name": "stdout",
     "output_type": "stream",
     "text": [
      "Time 235.1731634605676 seconds\n",
      "epoch 2/5 Average Training Loss: 0.437248\n",
      "epoch 2/5 Average Estimation Loss (in Source domain): 0.228083\n",
      "epoch 2/5 Average Disc Loss (in Source domain): 25027.876953\n",
      "epoch 2/5 Average Domain Discrimination Loss: 0.902240\n",
      "epoch 2/5 For observation only - Average Estimation Loss in Target domain: 2.834486\n",
      "epoch 2/5 (Val) Weighted Total Loss: 337.546265\n",
      "epoch 2/5 (Val) Average Estimation Loss (mean): 2.424460\n",
      "epoch 2/5 (Val) Average Estimation Loss (Source): 0.356075\n",
      "epoch 2/5 (Val) Average Estimation Loss (Target): 4.492845\n",
      "epoch 2/5 (Val) GAN Discriminator Loss: 66836.718750\n",
      "epoch 2/5 (Val) Domain Discriminator Loss: 1.876429\n",
      "epoch 2/5 (Val) NMSE (Source): 0.135887, NMSE (Target): 2.127570, NMSE (Mean): 1.131728\n",
      "epoch 2/5 (Val) Domain Discriminator Accuracy (Average): 0.0000\n",
      "Time 240.290099282749 seconds\n",
      "epoch 3/5\n",
      "Fitting IncrementalPCA on batches from features_source.h5 and features_target.h5\n",
      "Fitted PCA on batch: source 96/96, target 96/96\n",
      "Reduced source shape: (96, 100), target shape: (96, 100)\n",
      "== C: 0.01, Error rate: 0.5208\n",
      "== C: 0.1, Error rate: 0.1146\n",
      "== C: 0.5, Error rate: 0.0417\n",
      "== C: 1.0, Error rate: 0.0208\n",
      "== C: 2.0, Error rate: 0.0208\n",
      "== C: 5.0, Error rate: 0.0208\n",
      "== C: 10.0, Error rate: 0.0208\n",
      "== C: 50.0, Error rate: 0.0208\n",
      "== C: 100.0, Error rate: 0.0208\n",
      "== C: 500.0, Error rate: 0.0208\n",
      "== C: 1000.0, Error rate: 0.0208\n",
      "Best C: 1.0, Best error rate: 0.0208\n",
      "============ PAD (SVM) = 1.9167\n",
      "LDA Error rate: 0.1562\n",
      "============ PAD (LDA) = 1.3750\n",
      "Logistic Regression Error rate: 0.0000\n",
      "============ PAD (LogReg) = 2.0000\n",
      "Time 450.7256219526753 seconds\n",
      "epoch 3/5 Average Training Loss: 0.431696\n",
      "epoch 3/5 Average Estimation Loss (in Source domain): 0.200674\n",
      "epoch 3/5 Average Disc Loss (in Source domain): 49917.175781\n",
      "epoch 3/5 Average Domain Discrimination Loss: 0.986490\n",
      "epoch 3/5 For observation only - Average Estimation Loss in Target domain: 2.814713\n",
      "epoch 3/5 (Val) Weighted Total Loss: 324.788300\n",
      "epoch 3/5 (Val) Average Estimation Loss (mean): 2.402814\n",
      "epoch 3/5 (Val) Average Estimation Loss (Source): 0.308606\n",
      "epoch 3/5 (Val) Average Estimation Loss (Target): 4.497022\n",
      "epoch 3/5 (Val) GAN Discriminator Loss: 64278.582031\n",
      "epoch 3/5 (Val) Domain Discriminator Loss: 1.985190\n",
      "epoch 3/5 (Val) NMSE (Source): 0.129448, NMSE (Target): 2.136309, NMSE (Mean): 1.132879\n",
      "epoch 3/5 (Val) Domain Discriminator Accuracy (Average): 0.0000\n",
      "Time 455.8585046478547 seconds\n",
      "epoch 4/5\n",
      "Fitting IncrementalPCA on batches from features_source.h5 and features_target.h5\n",
      "Fitted PCA on batch: source 96/96, target 96/96\n",
      "Reduced source shape: (96, 100), target shape: (96, 100)\n",
      "== C: 0.01, Error rate: 0.5208\n",
      "== C: 0.1, Error rate: 0.1146\n",
      "== C: 0.5, Error rate: 0.0417\n",
      "== C: 1.0, Error rate: 0.0104\n",
      "== C: 2.0, Error rate: 0.0104\n",
      "== C: 5.0, Error rate: 0.0104\n",
      "== C: 10.0, Error rate: 0.0104\n",
      "== C: 50.0, Error rate: 0.0104\n",
      "== C: 100.0, Error rate: 0.0104\n",
      "== C: 500.0, Error rate: 0.0104\n",
      "== C: 1000.0, Error rate: 0.0104\n",
      "Best C: 1.0, Best error rate: 0.0104\n",
      "============ PAD (SVM) = 1.9583\n",
      "LDA Error rate: 0.1354\n",
      "============ PAD (LDA) = 1.4583\n",
      "Logistic Regression Error rate: 0.0000\n",
      "============ PAD (LogReg) = 2.0000\n",
      "Time 665.5698430757038 seconds\n",
      "epoch 4/5 Average Training Loss: 0.417247\n",
      "epoch 4/5 Average Estimation Loss (in Source domain): 0.180523\n",
      "epoch 4/5 Average Disc Loss (in Source domain): 13507.344727\n",
      "epoch 4/5 Average Domain Discrimination Loss: 1.003142\n",
      "epoch 4/5 For observation only - Average Estimation Loss in Target domain: 2.801546\n",
      "epoch 4/5 (Val) Weighted Total Loss: 309.622864\n",
      "epoch 4/5 (Val) Average Estimation Loss (mean): 2.390489\n",
      "epoch 4/5 (Val) Average Estimation Loss (Source): 0.273988\n",
      "epoch 4/5 (Val) Average Estimation Loss (Target): 4.506989\n",
      "epoch 4/5 (Val) GAN Discriminator Loss: 61250.906250\n",
      "epoch 4/5 (Val) Domain Discriminator Loss: 1.955691\n",
      "epoch 4/5 (Val) NMSE (Source): 0.127049, NMSE (Target): 2.146243, NMSE (Mean): 1.136646\n",
      "epoch 4/5 (Val) Domain Discriminator Accuracy (Average): 0.0000\n",
      "Time 670.668157227803 seconds\n",
      "epoch 5/5\n",
      "Fitting IncrementalPCA on batches from features_source.h5 and features_target.h5\n",
      "Fitted PCA on batch: source 96/96, target 96/96\n",
      "Reduced source shape: (96, 100), target shape: (96, 100)\n",
      "== C: 0.01, Error rate: 0.5208\n",
      "== C: 0.1, Error rate: 0.1042\n",
      "== C: 0.5, Error rate: 0.0521\n",
      "== C: 1.0, Error rate: 0.0104\n",
      "== C: 2.0, Error rate: 0.0104\n",
      "== C: 5.0, Error rate: 0.0104\n",
      "== C: 10.0, Error rate: 0.0104\n",
      "== C: 50.0, Error rate: 0.0104\n",
      "== C: 100.0, Error rate: 0.0104\n",
      "== C: 500.0, Error rate: 0.0104\n",
      "== C: 1000.0, Error rate: 0.0104\n",
      "Best C: 1.0, Best error rate: 0.0104\n",
      "============ PAD (SVM) = 1.9583\n",
      "LDA Error rate: 0.1667\n",
      "============ PAD (LDA) = 1.3333\n",
      "Logistic Regression Error rate: 0.0000\n",
      "============ PAD (LogReg) = 2.0000\n",
      "Time 882.1616802117787 seconds\n",
      "epoch 5/5 Average Training Loss: 0.393229\n",
      "epoch 5/5 Average Estimation Loss (in Source domain): 0.164688\n",
      "epoch 5/5 Average Disc Loss (in Source domain): 37445.976562\n",
      "epoch 5/5 Average Domain Discrimination Loss: 0.959266\n",
      "epoch 5/5 For observation only - Average Estimation Loss in Target domain: 2.792456\n",
      "epoch 5/5 (Val) Weighted Total Loss: 312.110931\n",
      "epoch 5/5 (Val) Average Estimation Loss (mean): 2.382730\n",
      "epoch 5/5 (Val) Average Estimation Loss (Source): 0.246596\n",
      "epoch 5/5 (Val) Average Estimation Loss (Target): 4.518863\n",
      "epoch 5/5 (Val) GAN Discriminator Loss: 61763.820312\n",
      "epoch 5/5 (Val) Domain Discriminator Loss: 1.818250\n",
      "epoch 5/5 (Val) NMSE (Source): 0.126588, NMSE (Target): 2.156158, NMSE (Mean): 1.141373\n",
      "epoch 5/5 (Val) Domain Discriminator Accuracy (Average): 0.0312\n"
     ]
    },
    {
     "data": {
      "text/plain": [
       "<Figure size 1000x400 with 0 Axes>"
      ]
     },
     "metadata": {},
     "output_type": "display_data"
    },
    {
     "data": {
      "text/plain": [
       "<Figure size 1000x400 with 0 Axes>"
      ]
     },
     "metadata": {},
     "output_type": "display_data"
    },
    {
     "data": {
      "text/plain": [
       "<Figure size 1000x400 with 0 Axes>"
      ]
     },
     "metadata": {},
     "output_type": "display_data"
    },
    {
     "data": {
      "text/plain": [
       "<Figure size 1000x400 with 0 Axes>"
      ]
     },
     "metadata": {},
     "output_type": "display_data"
    },
    {
     "data": {
      "text/plain": [
       "<Figure size 1000x400 with 0 Axes>"
      ]
     },
     "metadata": {},
     "output_type": "display_data"
    },
    {
     "data": {
      "text/plain": [
       "<Figure size 1000x400 with 0 Axes>"
      ]
     },
     "metadata": {},
     "output_type": "display_data"
    },
    {
     "data": {
      "text/plain": [
       "<Figure size 1000x400 with 0 Axes>"
      ]
     },
     "metadata": {},
     "output_type": "display_data"
    },
    {
     "data": {
      "text/plain": [
       "<Figure size 1000x400 with 0 Axes>"
      ]
     },
     "metadata": {},
     "output_type": "display_data"
    },
    {
     "data": {
      "text/plain": [
       "<Figure size 1000x400 with 0 Axes>"
      ]
     },
     "metadata": {},
     "output_type": "display_data"
    },
    {
     "data": {
      "text/plain": [
       "<Figure size 1000x400 with 0 Axes>"
      ]
     },
     "metadata": {},
     "output_type": "display_data"
    },
    {
     "data": {
      "text/plain": [
       "<Figure size 1000x400 with 0 Axes>"
      ]
     },
     "metadata": {},
     "output_type": "display_data"
    },
    {
     "data": {
      "text/plain": [
       "<Figure size 1000x400 with 0 Axes>"
      ]
     },
     "metadata": {},
     "output_type": "display_data"
    },
    {
     "data": {
      "text/plain": [
       "<Figure size 1000x500 with 0 Axes>"
      ]
     },
     "metadata": {},
     "output_type": "display_data"
    },
    {
     "data": {
      "text/plain": [
       "<Figure size 1000x500 with 0 Axes>"
      ]
     },
     "metadata": {},
     "output_type": "display_data"
    },
    {
     "data": {
      "text/plain": [
       "<Figure size 1000x500 with 0 Axes>"
      ]
     },
     "metadata": {},
     "output_type": "display_data"
    },
    {
     "data": {
      "text/plain": [
       "<Figure size 1000x500 with 0 Axes>"
      ]
     },
     "metadata": {},
     "output_type": "display_data"
    },
    {
     "data": {
      "text/plain": [
       "<Figure size 1000x500 with 0 Axes>"
      ]
     },
     "metadata": {},
     "output_type": "display_data"
    },
    {
     "data": {
      "text/plain": [
       "<Figure size 1000x500 with 0 Axes>"
      ]
     },
     "metadata": {},
     "output_type": "display_data"
    },
    {
     "data": {
      "text/plain": [
       "<Figure size 1000x500 with 0 Axes>"
      ]
     },
     "metadata": {},
     "output_type": "display_data"
    },
    {
     "data": {
      "text/plain": [
       "<Figure size 1000x500 with 0 Axes>"
      ]
     },
     "metadata": {},
     "output_type": "display_data"
    },
    {
     "data": {
      "text/plain": [
       "<Figure size 1000x500 with 0 Axes>"
      ]
     },
     "metadata": {},
     "output_type": "display_data"
    },
    {
     "data": {
      "text/plain": [
       "<Figure size 1000x500 with 0 Axes>"
      ]
     },
     "metadata": {},
     "output_type": "display_data"
    },
    {
     "data": {
      "text/plain": [
       "<Figure size 1000x500 with 0 Axes>"
      ]
     },
     "metadata": {},
     "output_type": "display_data"
    },
    {
     "data": {
      "text/plain": [
       "<Figure size 1000x500 with 0 Axes>"
      ]
     },
     "metadata": {},
     "output_type": "display_data"
    },
    {
     "data": {
      "text/plain": [
       "<Figure size 1000x400 with 0 Axes>"
      ]
     },
     "metadata": {},
     "output_type": "display_data"
    },
    {
     "data": {
      "text/plain": [
       "<Figure size 1000x400 with 0 Axes>"
      ]
     },
     "metadata": {},
     "output_type": "display_data"
    },
    {
     "data": {
      "text/plain": [
       "<Figure size 1000x400 with 0 Axes>"
      ]
     },
     "metadata": {},
     "output_type": "display_data"
    },
    {
     "data": {
      "text/plain": [
       "<Figure size 1000x400 with 0 Axes>"
      ]
     },
     "metadata": {},
     "output_type": "display_data"
    },
    {
     "data": {
      "text/plain": [
       "<Figure size 1000x400 with 0 Axes>"
      ]
     },
     "metadata": {},
     "output_type": "display_data"
    },
    {
     "data": {
      "text/plain": [
       "<Figure size 1000x400 with 0 Axes>"
      ]
     },
     "metadata": {},
     "output_type": "display_data"
    },
    {
     "data": {
      "text/plain": [
       "<Figure size 1000x500 with 0 Axes>"
      ]
     },
     "metadata": {},
     "output_type": "display_data"
    },
    {
     "data": {
      "text/plain": [
       "<Figure size 1000x500 with 0 Axes>"
      ]
     },
     "metadata": {},
     "output_type": "display_data"
    },
    {
     "data": {
      "text/plain": [
       "<Figure size 1000x500 with 0 Axes>"
      ]
     },
     "metadata": {},
     "output_type": "display_data"
    },
    {
     "data": {
      "text/plain": [
       "<Figure size 1000x500 with 0 Axes>"
      ]
     },
     "metadata": {},
     "output_type": "display_data"
    },
    {
     "data": {
      "text/plain": [
       "<Figure size 1000x500 with 0 Axes>"
      ]
     },
     "metadata": {},
     "output_type": "display_data"
    },
    {
     "data": {
      "text/plain": [
       "<Figure size 1000x500 with 0 Axes>"
      ]
     },
     "metadata": {},
     "output_type": "display_data"
    },
    {
     "data": {
      "text/plain": [
       "<Figure size 1000x500 with 0 Axes>"
      ]
     },
     "metadata": {},
     "output_type": "display_data"
    },
    {
     "data": {
      "text/plain": [
       "<Figure size 1000x500 with 0 Axes>"
      ]
     },
     "metadata": {},
     "output_type": "display_data"
    },
    {
     "data": {
      "text/plain": [
       "<Figure size 1000x400 with 0 Axes>"
      ]
     },
     "metadata": {},
     "output_type": "display_data"
    },
    {
     "data": {
      "text/plain": [
       "<Figure size 1000x400 with 0 Axes>"
      ]
     },
     "metadata": {},
     "output_type": "display_data"
    },
    {
     "data": {
      "text/plain": [
       "<Figure size 1000x400 with 0 Axes>"
      ]
     },
     "metadata": {},
     "output_type": "display_data"
    },
    {
     "data": {
      "text/plain": [
       "<Figure size 1000x400 with 0 Axes>"
      ]
     },
     "metadata": {},
     "output_type": "display_data"
    },
    {
     "data": {
      "text/plain": [
       "<Figure size 1000x400 with 0 Axes>"
      ]
     },
     "metadata": {},
     "output_type": "display_data"
    },
    {
     "data": {
      "text/plain": [
       "<Figure size 1000x400 with 0 Axes>"
      ]
     },
     "metadata": {},
     "output_type": "display_data"
    },
    {
     "data": {
      "text/plain": [
       "<Figure size 1000x500 with 0 Axes>"
      ]
     },
     "metadata": {},
     "output_type": "display_data"
    },
    {
     "data": {
      "text/plain": [
       "<Figure size 1000x500 with 0 Axes>"
      ]
     },
     "metadata": {},
     "output_type": "display_data"
    },
    {
     "data": {
      "text/plain": [
       "<Figure size 1000x500 with 0 Axes>"
      ]
     },
     "metadata": {},
     "output_type": "display_data"
    },
    {
     "data": {
      "text/plain": [
       "<Figure size 1000x500 with 0 Axes>"
      ]
     },
     "metadata": {},
     "output_type": "display_data"
    },
    {
     "data": {
      "text/plain": [
       "<Figure size 1000x500 with 0 Axes>"
      ]
     },
     "metadata": {},
     "output_type": "display_data"
    },
    {
     "data": {
      "text/plain": [
       "<Figure size 1000x500 with 0 Axes>"
      ]
     },
     "metadata": {},
     "output_type": "display_data"
    },
    {
     "data": {
      "text/plain": [
       "<Figure size 1000x500 with 0 Axes>"
      ]
     },
     "metadata": {},
     "output_type": "display_data"
    },
    {
     "data": {
      "text/plain": [
       "<Figure size 1000x500 with 0 Axes>"
      ]
     },
     "metadata": {},
     "output_type": "display_data"
    },
    {
     "data": {
      "text/plain": [
       "<Figure size 1000x400 with 0 Axes>"
      ]
     },
     "metadata": {},
     "output_type": "display_data"
    },
    {
     "data": {
      "text/plain": [
       "<Figure size 1000x400 with 0 Axes>"
      ]
     },
     "metadata": {},
     "output_type": "display_data"
    },
    {
     "data": {
      "text/plain": [
       "<Figure size 1000x400 with 0 Axes>"
      ]
     },
     "metadata": {},
     "output_type": "display_data"
    },
    {
     "data": {
      "text/plain": [
       "<Figure size 1000x400 with 0 Axes>"
      ]
     },
     "metadata": {},
     "output_type": "display_data"
    },
    {
     "data": {
      "text/plain": [
       "<Figure size 1000x400 with 0 Axes>"
      ]
     },
     "metadata": {},
     "output_type": "display_data"
    },
    {
     "data": {
      "text/plain": [
       "<Figure size 1000x400 with 0 Axes>"
      ]
     },
     "metadata": {},
     "output_type": "display_data"
    },
    {
     "data": {
      "text/plain": [
       "<Figure size 1000x500 with 0 Axes>"
      ]
     },
     "metadata": {},
     "output_type": "display_data"
    },
    {
     "data": {
      "text/plain": [
       "<Figure size 1000x500 with 0 Axes>"
      ]
     },
     "metadata": {},
     "output_type": "display_data"
    },
    {
     "data": {
      "text/plain": [
       "<Figure size 1000x500 with 0 Axes>"
      ]
     },
     "metadata": {},
     "output_type": "display_data"
    },
    {
     "data": {
      "text/plain": [
       "<Figure size 1000x500 with 0 Axes>"
      ]
     },
     "metadata": {},
     "output_type": "display_data"
    },
    {
     "data": {
      "text/plain": [
       "<Figure size 1000x500 with 0 Axes>"
      ]
     },
     "metadata": {},
     "output_type": "display_data"
    },
    {
     "data": {
      "text/plain": [
       "<Figure size 1000x500 with 0 Axes>"
      ]
     },
     "metadata": {},
     "output_type": "display_data"
    },
    {
     "data": {
      "text/plain": [
       "<Figure size 1000x500 with 0 Axes>"
      ]
     },
     "metadata": {},
     "output_type": "display_data"
    },
    {
     "data": {
      "text/plain": [
       "<Figure size 1000x500 with 0 Axes>"
      ]
     },
     "metadata": {},
     "output_type": "display_data"
    },
    {
     "data": {
      "text/plain": [
       "<Figure size 1000x400 with 0 Axes>"
      ]
     },
     "metadata": {},
     "output_type": "display_data"
    },
    {
     "data": {
      "text/plain": [
       "<Figure size 1000x400 with 0 Axes>"
      ]
     },
     "metadata": {},
     "output_type": "display_data"
    },
    {
     "data": {
      "text/plain": [
       "<Figure size 1000x400 with 0 Axes>"
      ]
     },
     "metadata": {},
     "output_type": "display_data"
    },
    {
     "data": {
      "text/plain": [
       "<Figure size 1000x400 with 0 Axes>"
      ]
     },
     "metadata": {},
     "output_type": "display_data"
    },
    {
     "data": {
      "text/plain": [
       "<Figure size 1000x400 with 0 Axes>"
      ]
     },
     "metadata": {},
     "output_type": "display_data"
    },
    {
     "data": {
      "text/plain": [
       "<Figure size 1000x400 with 0 Axes>"
      ]
     },
     "metadata": {},
     "output_type": "display_data"
    },
    {
     "data": {
      "text/plain": [
       "<Figure size 1000x500 with 0 Axes>"
      ]
     },
     "metadata": {},
     "output_type": "display_data"
    },
    {
     "data": {
      "text/plain": [
       "<Figure size 1000x500 with 0 Axes>"
      ]
     },
     "metadata": {},
     "output_type": "display_data"
    },
    {
     "data": {
      "text/plain": [
       "<Figure size 1000x500 with 0 Axes>"
      ]
     },
     "metadata": {},
     "output_type": "display_data"
    },
    {
     "data": {
      "text/plain": [
       "<Figure size 1000x500 with 0 Axes>"
      ]
     },
     "metadata": {},
     "output_type": "display_data"
    },
    {
     "data": {
      "text/plain": [
       "<Figure size 1000x500 with 0 Axes>"
      ]
     },
     "metadata": {},
     "output_type": "display_data"
    },
    {
     "data": {
      "text/plain": [
       "<Figure size 1000x500 with 0 Axes>"
      ]
     },
     "metadata": {},
     "output_type": "display_data"
    },
    {
     "data": {
      "text/plain": [
       "<Figure size 1000x500 with 0 Axes>"
      ]
     },
     "metadata": {},
     "output_type": "display_data"
    },
    {
     "data": {
      "text/plain": [
       "<Figure size 1000x500 with 0 Axes>"
      ]
     },
     "metadata": {},
     "output_type": "display_data"
    }
   ],
   "source": [
    "import time\n",
    "start = time.perf_counter()\n",
    "\n",
    "n_epochs= 5\n",
    "epoch_min = 0\n",
    "epoch_step = 1\n",
    "# n_epochs= 3\n",
    "# epoch_min = 0\n",
    "# epoch_step = 1\n",
    "\n",
    "sub_folder_ = ['GAN_practical']  # ['GAN_linear', 'GAN_practical', 'GAN_ls']\n",
    "\n",
    "\n",
    "for sub_folder in sub_folder_:\n",
    "    print(f\"Processing: {sub_folder}\")\n",
    "    w_dist = []\n",
    "    pad_pca_lda = []\n",
    "    pad_pca_logreg = []\n",
    "    pad_pca_svm = []\n",
    "    linear_interp = False\n",
    "    if sub_folder == 'GAN_linear':\n",
    "        linear_interp =True # flag to clip values that go beyond the estimated pilot (min, max)\n",
    "    ##\n",
    "    loader_H_true_train_source = class_dict_source[sub_folder].true_train\n",
    "    loader_H_input_train_source = class_dict_source[sub_folder].input_train\n",
    "    loader_H_true_val_source = class_dict_source[sub_folder].true_val\n",
    "    loader_H_input_val_source = class_dict_source[sub_folder].input_val\n",
    "    \n",
    "    loader_H_true_train_target = class_dict_target[sub_folder].true_train\n",
    "    loader_H_input_train_target = class_dict_target[sub_folder].input_train\n",
    "    loader_H_true_val_target = class_dict_target[sub_folder].true_val\n",
    "    loader_H_input_val_target = class_dict_target[sub_folder].input_val\n",
    "    ##\n",
    "    \n",
    "    # Distribution of original input training datasets (or before training)\n",
    "    plotfig.plotHist(loader_H_input_train_source, fig_show = False, save_path=f\"{model_path}/{sub_folder}/Distribution/\", name='source_beforeTrain', percent=99)\n",
    "    plotfig.plotHist(loader_H_input_train_target, fig_show = False, save_path=f\"{model_path}/{sub_folder}/Distribution/\", name='target_beforeTrain', percent=99)\n",
    "    \n",
    "    plotfig.plotHist(loader_H_input_train_source, fig_show = False, save_path=f\"{model_path}/{sub_folder}/Distribution/\", name='source_beforeTrain', percent=95)\n",
    "    plotfig.plotHist(loader_H_input_train_target, fig_show = False, save_path=f\"{model_path}/{sub_folder}/Distribution/\", name='target_beforeTrain', percent=95)\n",
    "\n",
    "    plotfig.plotHist(loader_H_input_train_source, fig_show = False, save_path=f\"{model_path}/{sub_folder}/Distribution/\", name='source_beforeTrain', percent=90)\n",
    "    plotfig.plotHist(loader_H_input_train_target, fig_show = False, save_path=f\"{model_path}/{sub_folder}/Distribution/\", name='target_beforeTrain', percent=90)\n",
    "\n",
    "    # Calculate Wasserstein-1 distance for original input training datasets (before training)\n",
    "    print(\"Calculating Wasserstein-1 distance for original input training datasets (before training)...\")\n",
    "    w_dist_epoc = plotfig.wasserstein_approximate(loader_H_input_train_source, loader_H_input_train_target)\n",
    "    w_dist.append(w_dist_epoc)\n",
    "    \n",
    "    # Calculate     PAD for original input training datasets with SVM\n",
    "    pad_svm = PAD.original_PAD(loader_H_input_train_source, loader_H_input_train_target)\n",
    "    print(f\"PAD = {pad_svm:.4f}\")\n",
    "    \n",
    "    # Calculate PCA_PAD for original input training datasets with PCA_SVM, PCA_LDA, PCA_LogReg\n",
    "    X_features_, y_features_ = PAD.extract_features_with_pca(loader_H_input_train_source, loader_H_input_train_target, pca_components=100)\n",
    "    pad_pca_svm_epoc = PAD.calc_pad_svm(X_features_, y_features_)\n",
    "    pad_pca_lda_epoc = PAD.calc_pad_lda(X_features_, y_features_)\n",
    "    pad_pca_logreg_epoc = PAD.calc_pad_logreg(X_features_, y_features_)\n",
    "    \n",
    "    pad_pca_lda.append(pad_pca_lda_epoc)\n",
    "    pad_pca_logreg.append(pad_pca_logreg_epoc)\n",
    "    pad_pca_svm.append(pad_pca_svm_epoc)\n",
    "    ## \n",
    "    \n",
    "    if not os.path.exists(os.path.dirname(model_path + '/' + sub_folder +'/')):\n",
    "        os.makedirs(os.path.dirname(model_path + '/' + sub_folder + '/'))   # Domain_Adversarial/model/_/ver_/{sub_folder}\n",
    "\n",
    "    train_loss          = [] # (epoch,1)\n",
    "    train_est_loss      = [] \n",
    "    train_disc_loss     = [] \n",
    "    train_domain_loss   = []\n",
    "    train_est_loss_target = []\n",
    "    #    \n",
    "    val_loss, val_gan_disc_loss, val_domain_disc_loss,\\\n",
    "    val_est_loss_source, val_est_loss_target, val_est_loss,\\\n",
    "    source_acc, target_acc, acc,\\\n",
    "    nmse_val_source, nmse_val_target, nmse_val = [[] for _ in range(12)]\n",
    "    #\n",
    "    H_to_save = {}          # list to save to .mat file for H\n",
    "    perform_to_save = {}    # list to save to .mat file for nmse, losses,...\n",
    "\n",
    "    model = utils_GAN.GAN(n_subc=312, gen_l2=None, disc_l2=1e-5)  # l2 regularization for generator and discriminator\n",
    "    model_domain = utils_GAN.DomainDisc()\n",
    "    gen_optimizer = tf.keras.optimizers.Adam(learning_rate=1e-4, beta_1=0.5, beta_2=0.9)\n",
    "    disc_optimizer = tf.keras.optimizers.Adam(learning_rate=1e-5, beta_1=0.5, beta_2=0.9)  # WGAN-GP uses Adam optimizer with beta_1=0.5\n",
    "    domain_optimizer = tf.keras.optimizers.Adam(learning_rate=5e-5)\n",
    "    ####\n",
    "    optimizer = [gen_optimizer, disc_optimizer, domain_optimizer]\n",
    "    ####\n",
    "    \n",
    "    flag = 1 # flag to plot and save H_true\n",
    "    epoc_pad = []    # epochs that calculating pad (return_features == True)\n",
    "    for epoch in range(n_epochs):\n",
    "        # ===================== Training =====================\n",
    "        loader_H_true_train_source.reset()\n",
    "        # loader_H_practical_train_source.reset()\n",
    "        loader_H_input_train_source.reset()\n",
    "        loader_H_true_train_target.reset()\n",
    "        # loader_H_practical_train_target.reset()\n",
    "        loader_H_input_train_target.reset()\n",
    "                \n",
    "        # loader_H = [loader_H_practical_train_source, loader_H_true_train_source, loader_H_practical_train_target, loader_H_true_train_target]\n",
    "        loader_H = [loader_H_input_train_source, loader_H_true_train_source, loader_H_input_train_target, loader_H_true_train_target]\n",
    "        \n",
    "        loss_fn = [loss_fn_ce, loss_fn_bce, loss_fn_domain]\n",
    "    \n",
    "        ##########################\n",
    "        if epoch in [int(n_epochs * r) for r in [0, 0.25, 0.5, 0.75]] or epoch == n_epochs-1:\n",
    "            # return_features == return features to calculate PAD\n",
    "            return_features = True\n",
    "            epoc_pad.append(epoch)\n",
    "        else:\n",
    "            return_features = False\n",
    "\n",
    "        ##########################\n",
    "        train_step_output = utils_GAN.train_step_wgan_gp(model, model_domain, loader_H, loss_fn, optimizer, lower_range=-1,\n",
    "                                adv_weight=adv_weight, est_weight=est_weight, domain_weight=domain_weight, return_features=return_features, linear_interp=linear_interp)\n",
    "        \n",
    "        train_epoc_loss_est        = train_step_output.avg_epoc_loss_est\n",
    "        train_epoc_loss_d          = train_step_output.avg_epoc_loss_d\n",
    "        train_epoc_loss_domain     = train_step_output.avg_epoc_loss_domain\n",
    "        train_epoc_loss            = train_step_output.avg_epoc_loss\n",
    "        train_epoc_loss_est_target = train_step_output.avg_epoc_loss_est_target\n",
    "                # train_epoc_loss        = total train loss = loss_est + lambda_domain * domain_loss\n",
    "                # train_epoc_loss_est    = loss in estimation network in source domain (labels available)\n",
    "                # train_epoc_loss_domain = loss in domain discrimination network\n",
    "                # train_epoc_loss_est_target - just to monitor - the machine can not calculate because no label available in source domain\n",
    "                # All are already calculated in average over training dataset (source/target - respectively)\n",
    "        print(\"Time\", time.perf_counter() - start, \"seconds\")\n",
    "        # Calculate PAD for the extracted features\n",
    "        if return_features and (domain_weight!=0):\n",
    "            features_source_file = \"features_source.h5\"\n",
    "            features_target_file = \"features_target.h5\"\n",
    "            print(f\"epoch {epoch+1}/{n_epochs}\")\n",
    "            ## Calculate PCA_PAD for extracted features with PCA_SVM, PCA_LDA, PCA_LogReg\n",
    "            X_features, y_features = PAD.extract_features_with_pca(features_source_file, features_target_file, pca_components=100)\n",
    "            pad_svm_epoc = PAD.calc_pad_svm(X_features, y_features)\n",
    "            pad_pca_svm.append(pad_svm_epoc)\n",
    "            #\n",
    "            pad_lda_epoc = PAD.calc_pad_lda(X_features, y_features)\n",
    "            pad_pca_lda.append(pad_lda_epoc)\n",
    "            #\n",
    "            pad_logreg_epoc = PAD.calc_pad_logreg(X_features, y_features)\n",
    "            pad_pca_logreg.append(pad_logreg_epoc)\n",
    "            \n",
    "            ## Distribution of extracted features\n",
    "            plotfig.plotHist(features_source_file, fig_show = False, save_path=f\"{model_path}/{sub_folder}/Distribution/\", name=f'source_epoch_{epoch+1}', percent=99)\n",
    "            plotfig.plotHist(features_target_file, fig_show = False, save_path=f\"{model_path}/{sub_folder}/Distribution/\", name=f'target_epoch_{epoch+1}', percent=99)\n",
    "            #\n",
    "            plotfig.plotHist(features_source_file, fig_show = False, save_path=f\"{model_path}/{sub_folder}/Distribution/\", name=f'source_epoch_{epoch+1}', percent=95)\n",
    "            plotfig.plotHist(features_target_file, fig_show = False, save_path=f\"{model_path}/{sub_folder}/Distribution/\", name=f'target_epoch_{epoch+1}', percent=95)\n",
    "            #\n",
    "            plotfig.plotHist(features_source_file, fig_show = False, save_path=f\"{model_path}/{sub_folder}/Distribution/\", name=f'source_epoch_{epoch+1}', percent=90)\n",
    "            plotfig.plotHist(features_target_file, fig_show = False, save_path=f\"{model_path}/{sub_folder}/Distribution/\", name=f'target_epoch_{epoch+1}', percent=90)\n",
    "            # Calculate Wasserstein-1 distance for extracted features\n",
    "            print(\"Calculating Wasserstein-1 distance for extracted features ...\")\n",
    "            w_dist_epoc = plotfig.wasserstein_approximate(features_source_file, features_target_file)\n",
    "            w_dist.append(w_dist_epoc)\n",
    "            \n",
    "\n",
    "            if os.path.exists(features_source_file):\n",
    "                os.remove(features_source_file)\n",
    "            if os.path.exists(features_target_file):\n",
    "                os.remove(features_target_file)\n",
    "            print(\"Time\", time.perf_counter() - start, \"seconds\")\n",
    "            \n",
    "        \n",
    "        # Average loss for the epoch\n",
    "        train_loss.append(train_epoc_loss)\n",
    "        print(f\"epoch {epoch+1}/{n_epochs} Average Training Loss: {train_epoc_loss:.6f}\")\n",
    "        #\n",
    "        train_est_loss.append(train_epoc_loss_est)\n",
    "        print(f\"epoch {epoch+1}/{n_epochs} Average Estimation Loss (in Source domain): {train_epoc_loss_est:.6f}\")\n",
    "        #\n",
    "        train_disc_loss.append(train_epoc_loss_d)\n",
    "        print(f\"epoch {epoch+1}/{n_epochs} Average Disc Loss (in Source domain): {train_epoc_loss_d:.6f}\")\n",
    "        #\n",
    "        train_domain_loss.append(train_epoc_loss_domain)\n",
    "        print(f\"epoch {epoch+1}/{n_epochs} Average Domain Discrimination Loss: {train_epoc_loss_domain:.6f}\")\n",
    "        #\n",
    "        train_est_loss_target.append(train_epoc_loss_est_target)\n",
    "        print(f\"epoch {epoch+1}/{n_epochs} For observation only - Average Estimation Loss in Target domain: {train_epoc_loss_est_target:.6f}\")\n",
    "        \n",
    "        \n",
    "        # ===================== Evaluation =====================\n",
    "        loader_H_true_val_source.reset()\n",
    "        loader_H_input_val_source.reset()\n",
    "        loader_H_true_val_target.reset()\n",
    "        loader_H_input_val_target.reset()\n",
    "        loader_H_eval = [loader_H_input_val_source, loader_H_true_val_source, loader_H_input_val_target, loader_H_true_val_target]\n",
    "\n",
    "        loss_fn = [loss_fn_ce, loss_fn_bce, loss_fn_domain]\n",
    "        \n",
    "        # eval_func = utils_UDA_FiLM.val_step\n",
    "        if (epoch==epoch_min) or (epoch+1>epoch_min and (epoch-epoch_min)%epoch_step==0) or epoch==n_epochs-1:\n",
    "            H_sample, epoc_val_return = utils_GAN.val_step_wgan_gp(model, model_domain, loader_H_eval, loss_fn, lower_range, \n",
    "                                            adv_weight=adv_weight, est_weight=est_weight, domain_weight=domain_weight, linear_interp=linear_interp)\n",
    "            utils_GAN.visualize_H(H_sample, H_to_save, epoch, plotfig.figChan, flag, model_path, sub_folder, domain_weight=domain_weight)\n",
    "            flag = 0  # after the first epoch, no need to save H_true anymore\n",
    "            \n",
    "        else:\n",
    "            _, epoc_val_return = utils_GAN.val_step_wgan_gp(model, model_domain, loader_H_eval, loss_fn, lower_range, \n",
    "                                            adv_weight=adv_weight, est_weight=est_weight, domain_weight=domain_weight, linear_interp=linear_interp)\n",
    "        \n",
    "        utils_GAN.post_val(epoc_val_return, epoch, n_epochs, val_est_loss, val_est_loss_source, val_loss, val_est_loss_target,\n",
    "            val_gan_disc_loss, val_domain_disc_loss, nmse_val_source, nmse_val_target, nmse_val, source_acc, target_acc, acc, domain_weight=domain_weight)\n",
    "        \n",
    "        \n",
    "        if (epoch==epoch_min) or (epoch+1>epoch_min and (epoch-epoch_min)%epoch_step==0) or epoch==n_epochs-1:\n",
    "            utils_GAN.save_checkpoint(model, save_model, model_path, sub_folder, epoch, plotfig.figLoss, savemat, train_loss, train_est_loss, train_domain_loss, train_est_loss_target,\n",
    "                    val_est_loss, val_est_loss_source, val_loss, val_est_loss_target, val_gan_disc_loss, val_domain_disc_loss,\n",
    "                    source_acc, target_acc, acc, nmse_val_source, nmse_val_target, nmse_val, pad_pca_svm, pad_pca_lda, pad_pca_logreg, epoc_pad, pad_svm, train_disc_loss, domain_weight=domain_weight)\n",
    "    \n",
    "    # end of epoch loop\n",
    "    # =====================            \n",
    "    # Save performances\n",
    "    # Save H matrix\n",
    "    savemat(model_path + '/' + sub_folder + '/H_visualize/H_trix.mat', H_to_save)\n",
    "\n",
    "# end of trainmode   \n",
    "    "
   ]
  },
  {
   "cell_type": "code",
   "execution_count": 13,
   "id": "69a59395",
   "metadata": {},
   "outputs": [
    {
     "data": {
      "text/plain": [
       "[1.75,\n",
       " 1.9166666666666665,\n",
       " 1.9166666666666665,\n",
       " 1.9166666666666665,\n",
       " 1.9583333333333335,\n",
       " 1.9583333333333335]"
      ]
     },
     "execution_count": 13,
     "metadata": {},
     "output_type": "execute_result"
    }
   ],
   "source": [
    "pad_pca_svm"
   ]
  },
  {
   "cell_type": "code",
   "execution_count": 14,
   "id": "ebc1ace9",
   "metadata": {},
   "outputs": [
    {
     "data": {
      "text/plain": [
       "[0.75, 1.5, 1.2083333333333335, 1.375, 1.4583333333333335, 1.3333333333333335]"
      ]
     },
     "execution_count": 14,
     "metadata": {},
     "output_type": "execute_result"
    }
   ],
   "source": [
    "pad_pca_lda"
   ]
  },
  {
   "cell_type": "code",
   "execution_count": 15,
   "id": "01b842dc",
   "metadata": {},
   "outputs": [
    {
     "data": {
      "text/plain": [
       "[0, 1, 2, 3, 4]"
      ]
     },
     "execution_count": 15,
     "metadata": {},
     "output_type": "execute_result"
    }
   ],
   "source": [
    "epoc_pad"
   ]
  },
  {
   "cell_type": "code",
   "execution_count": 16,
   "id": "3f7699aa",
   "metadata": {},
   "outputs": [
    {
     "data": {
      "text/plain": [
       "[0.08333333333333304, 1.9583333333333335, 1.9583333333333335, 2.0, 2.0, 2.0]"
      ]
     },
     "execution_count": 16,
     "metadata": {},
     "output_type": "execute_result"
    }
   ],
   "source": [
    "pad_pca_logreg"
   ]
  },
  {
   "cell_type": "code",
   "execution_count": 17,
   "id": "0b9f50f0",
   "metadata": {},
   "outputs": [
    {
     "data": {
      "image/png": "[encoded data removed]",
      "text/plain": [
       "<Figure size 1000x500 with 1 Axes>"
      ]
     },
     "metadata": {},
     "output_type": "display_data"
    },
    {
     "data": {
      "text/plain": [
       "<Figure size 640x480 with 0 Axes>"
      ]
     },
     "metadata": {},
     "output_type": "display_data"
    }
   ],
   "source": [
    "plotfig.figLoss(line_list=[(val_gan_disc_loss, 'Val Disc Loss')], xlabel='Epoch', ylabel='BCE',\n",
    "                        title='Val GAN Disc Loss', fig_show=True, fig_name='Loss')"
   ]
  },
  {
   "cell_type": "code",
   "execution_count": 18,
   "id": "0366d5fa",
   "metadata": {},
   "outputs": [
    {
     "data": {
      "image/png": "[encoded data removed]",
      "text/plain": [
       "<Figure size 1000x500 with 1 Axes>"
      ]
     },
     "metadata": {},
     "output_type": "display_data"
    },
    {
     "data": {
      "text/plain": [
       "<Figure size 640x480 with 0 Axes>"
      ]
     },
     "metadata": {},
     "output_type": "display_data"
    }
   ],
   "source": [
    "plotfig.figLoss(line_list=[(train_disc_loss, 'Train Disc Loss'), (val_gan_disc_loss, 'Val Disc Loss')], xlabel='Epoch', ylabel='BCE',\n",
    "                        title='Val GAN Disc Loss', fig_show=True, fig_name='Loss')"
   ]
  },
  {
   "cell_type": "code",
   "execution_count": 19,
   "id": "81a72ffc",
   "metadata": {},
   "outputs": [
    {
     "data": {
      "image/png": "[encoded data removed]",
      "text/plain": [
       "<Figure size 1000x500 with 1 Axes>"
      ]
     },
     "metadata": {},
     "output_type": "display_data"
    },
    {
     "data": {
      "text/plain": [
       "<Figure size 640x480 with 0 Axes>"
      ]
     },
     "metadata": {},
     "output_type": "display_data"
    }
   ],
   "source": [
    "plotfig.figLoss(line_list=[(train_disc_loss[70:], 'Train Disc Loss'), (val_gan_disc_loss[70:], 'Val Disc Loss')], xlabel='Epoch', ylabel='BCE',\n",
    "                        title='Val GAN Disc Loss', fig_show=True, fig_name='Loss')"
   ]
  },
  {
   "cell_type": "code",
   "execution_count": 20,
   "id": "a46571d2",
   "metadata": {},
   "outputs": [
    {
     "data": {
      "image/png": "[encoded data removed]",
      "text/plain": [
       "<Figure size 1000x500 with 1 Axes>"
      ]
     },
     "metadata": {},
     "output_type": "display_data"
    },
    {
     "data": {
      "text/plain": [
       "<Figure size 640x480 with 0 Axes>"
      ]
     },
     "metadata": {},
     "output_type": "display_data"
    }
   ],
   "source": [
    "plotfig.figLoss(line_list=[(val_est_loss, 'Val Gen Loss'), (train_est_loss, 'Train Gen Loss')], xlabel='Epoch', ylabel='MSE',\n",
    "                        title='MSE Loss', fig_show=True, fig_name='Loss')\n",
    "            "
   ]
  },
  {
   "cell_type": "code",
   "execution_count": 21,
   "id": "816be63c",
   "metadata": {},
   "outputs": [
    {
     "data": {
      "image/png": "[encoded data removed]",
      "text/plain": [
       "<Figure size 1000x500 with 1 Axes>"
      ]
     },
     "metadata": {},
     "output_type": "display_data"
    },
    {
     "data": {
      "text/plain": [
       "<Figure size 640x480 with 0 Axes>"
      ]
     },
     "metadata": {},
     "output_type": "display_data"
    }
   ],
   "source": [
    "plotfig.figLoss(line_list=[(nmse_val_source, 'Val NMSE')], xlabel='Epoch', ylabel='NMSE',\n",
    "                        title='NMSE Val', fig_show=True, fig_name='Loss')"
   ]
  },
  {
   "cell_type": "code",
   "execution_count": 22,
   "id": "f7b74bf7",
   "metadata": {},
   "outputs": [],
   "source": [
    "subload_GAN = notebook_dir + '/model/GAN'\n",
    "subload_ = notebook_dir + '/model/GAN'"
   ]
  },
  {
   "cell_type": "code",
   "execution_count": 23,
   "id": "2544db10",
   "metadata": {},
   "outputs": [],
   "source": [
    "nmse_source_LI = []\n",
    "nmse_target_LI = []\n",
    "nmse_source_practical = []\n",
    "nmse_target_practical = []\n",
    "nmse_source_LI_GAN = []\n",
    "nmse_target_LI_GAN = []\n",
    "nmse_source_practical_GAN = []\n",
    "nmse_target_practical_GAN = []\n",
    "\n",
    "SNR_dB_ = np.arange(-15, 1, 5)"
   ]
  },
  {
   "cell_type": "code",
   "execution_count": 24,
   "id": "52f8a9d4",
   "metadata": {},
   "outputs": [
    {
     "ename": "FileNotFoundError",
     "evalue": "[Errno 2] No such file or directory: '/home/thien/Code/NTN/Hest_NTN_UDA/Domain_Adversarial/model/GAN/ver33_/GAN_practical/performance/performance.mat'",
     "output_type": "error",
     "traceback": [
      "\u001b[31m---------------------------------------------------------------------------\u001b[39m",
      "\u001b[31mFileNotFoundError\u001b[39m                         Traceback (most recent call last)",
      "\u001b[36mFile \u001b[39m\u001b[32m~/miniconda3/envs/TF_py311/lib/python3.11/site-packages/scipy/io/matlab/_mio.py:39\u001b[39m, in \u001b[36m_open_file\u001b[39m\u001b[34m(file_like, appendmat, mode)\u001b[39m\n\u001b[32m     38\u001b[39m \u001b[38;5;28;01mtry\u001b[39;00m:\n\u001b[32m---> \u001b[39m\u001b[32m39\u001b[39m     \u001b[38;5;28;01mreturn\u001b[39;00m \u001b[38;5;28mopen\u001b[39m(file_like, mode), \u001b[38;5;28;01mTrue\u001b[39;00m\n\u001b[32m     40\u001b[39m \u001b[38;5;28;01mexcept\u001b[39;00m \u001b[38;5;167;01mOSError\u001b[39;00m \u001b[38;5;28;01mas\u001b[39;00m e:\n\u001b[32m     41\u001b[39m     \u001b[38;5;66;03m# Probably \"not found\"\u001b[39;00m\n",
      "\u001b[31mFileNotFoundError\u001b[39m: [Errno 2] No such file or directory: '/home/thien/Code/NTN/Hest_NTN_UDA/Domain_Adversarial/model/GAN/ver33_/GAN_practical/performance/performance.mat'",
      "\nDuring handling of the above exception, another exception occurred:\n",
      "\u001b[31mFileNotFoundError\u001b[39m                         Traceback (most recent call last)",
      "\u001b[36mCell\u001b[39m\u001b[36m \u001b[39m\u001b[32mIn[24]\u001b[39m\u001b[32m, line 6\u001b[39m\n\u001b[32m      3\u001b[39m iver = \u001b[32m33\u001b[39m\n\u001b[32m      4\u001b[39m \u001b[38;5;66;03m# Load the .mat file\u001b[39;00m\n\u001b[32m      5\u001b[39m \u001b[38;5;66;03m# mat_data = sio.loadmat(f\"{subload_GAN}/ver{iver}_/GAN_linear/performance/performance.mat\")\u001b[39;00m\n\u001b[32m----> \u001b[39m\u001b[32m6\u001b[39m mat_data = \u001b[43msio\u001b[49m\u001b[43m.\u001b[49m\u001b[43mloadmat\u001b[49m\u001b[43m(\u001b[49m\u001b[33;43mf\u001b[39;49m\u001b[33;43m\"\u001b[39;49m\u001b[38;5;132;43;01m{\u001b[39;49;00m\u001b[43msubload_GAN\u001b[49m\u001b[38;5;132;43;01m}\u001b[39;49;00m\u001b[33;43m/ver\u001b[39;49m\u001b[38;5;132;43;01m{\u001b[39;49;00m\u001b[43miver\u001b[49m\u001b[38;5;132;43;01m}\u001b[39;49;00m\u001b[33;43m_/GAN_practical/performance/performance.mat\u001b[39;49m\u001b[33;43m\"\u001b[39;49m\u001b[43m)\u001b[49m\n\u001b[32m      8\u001b[39m \u001b[38;5;66;03m# Check the keys inside the file\u001b[39;00m\n\u001b[32m      9\u001b[39m \u001b[38;5;28mprint\u001b[39m(mat_data.keys())\n",
      "\u001b[36mFile \u001b[39m\u001b[32m~/miniconda3/envs/TF_py311/lib/python3.11/site-packages/scipy/io/matlab/_mio.py:233\u001b[39m, in \u001b[36mloadmat\u001b[39m\u001b[34m(file_name, mdict, appendmat, spmatrix, **kwargs)\u001b[39m\n\u001b[32m     88\u001b[39m \u001b[38;5;250m\u001b[39m\u001b[33;03m\"\"\"\u001b[39;00m\n\u001b[32m     89\u001b[39m \u001b[33;03mLoad MATLAB file.\u001b[39;00m\n\u001b[32m     90\u001b[39m \n\u001b[32m   (...)\u001b[39m\u001b[32m    230\u001b[39m \u001b[33;03m    3.14159265+3.14159265j])\u001b[39;00m\n\u001b[32m    231\u001b[39m \u001b[33;03m\"\"\"\u001b[39;00m\n\u001b[32m    232\u001b[39m variable_names = kwargs.pop(\u001b[33m'\u001b[39m\u001b[33mvariable_names\u001b[39m\u001b[33m'\u001b[39m, \u001b[38;5;28;01mNone\u001b[39;00m)\n\u001b[32m--> \u001b[39m\u001b[32m233\u001b[39m \u001b[43m\u001b[49m\u001b[38;5;28;43;01mwith\u001b[39;49;00m\u001b[43m \u001b[49m\u001b[43m_open_file_context\u001b[49m\u001b[43m(\u001b[49m\u001b[43mfile_name\u001b[49m\u001b[43m,\u001b[49m\u001b[43m \u001b[49m\u001b[43mappendmat\u001b[49m\u001b[43m)\u001b[49m\u001b[43m \u001b[49m\u001b[38;5;28;43;01mas\u001b[39;49;00m\u001b[43m \u001b[49m\u001b[43mf\u001b[49m\u001b[43m:\u001b[49m\n\u001b[32m    234\u001b[39m \u001b[43m    \u001b[49m\u001b[43mMR\u001b[49m\u001b[43m,\u001b[49m\u001b[43m \u001b[49m\u001b[43m_\u001b[49m\u001b[43m \u001b[49m\u001b[43m=\u001b[49m\u001b[43m \u001b[49m\u001b[43mmat_reader_factory\u001b[49m\u001b[43m(\u001b[49m\u001b[43mf\u001b[49m\u001b[43m,\u001b[49m\u001b[43m \u001b[49m\u001b[43m*\u001b[49m\u001b[43m*\u001b[49m\u001b[43mkwargs\u001b[49m\u001b[43m)\u001b[49m\n\u001b[32m    235\u001b[39m \u001b[43m    \u001b[49m\u001b[43mmatfile_dict\u001b[49m\u001b[43m \u001b[49m\u001b[43m=\u001b[49m\u001b[43m \u001b[49m\u001b[43mMR\u001b[49m\u001b[43m.\u001b[49m\u001b[43mget_variables\u001b[49m\u001b[43m(\u001b[49m\u001b[43mvariable_names\u001b[49m\u001b[43m)\u001b[49m\n",
      "\u001b[36mFile \u001b[39m\u001b[32m~/miniconda3/envs/TF_py311/lib/python3.11/contextlib.py:137\u001b[39m, in \u001b[36m_GeneratorContextManager.__enter__\u001b[39m\u001b[34m(self)\u001b[39m\n\u001b[32m    135\u001b[39m \u001b[38;5;28;01mdel\u001b[39;00m \u001b[38;5;28mself\u001b[39m.args, \u001b[38;5;28mself\u001b[39m.kwds, \u001b[38;5;28mself\u001b[39m.func\n\u001b[32m    136\u001b[39m \u001b[38;5;28;01mtry\u001b[39;00m:\n\u001b[32m--> \u001b[39m\u001b[32m137\u001b[39m     \u001b[38;5;28;01mreturn\u001b[39;00m \u001b[38;5;28mnext\u001b[39m(\u001b[38;5;28mself\u001b[39m.gen)\n\u001b[32m    138\u001b[39m \u001b[38;5;28;01mexcept\u001b[39;00m \u001b[38;5;167;01mStopIteration\u001b[39;00m:\n\u001b[32m    139\u001b[39m     \u001b[38;5;28;01mraise\u001b[39;00m \u001b[38;5;167;01mRuntimeError\u001b[39;00m(\u001b[33m\"\u001b[39m\u001b[33mgenerator didn\u001b[39m\u001b[33m'\u001b[39m\u001b[33mt yield\u001b[39m\u001b[33m\"\u001b[39m) \u001b[38;5;28;01mfrom\u001b[39;00m\u001b[38;5;250m \u001b[39m\u001b[38;5;28;01mNone\u001b[39;00m\n",
      "\u001b[36mFile \u001b[39m\u001b[32m~/miniconda3/envs/TF_py311/lib/python3.11/site-packages/scipy/io/matlab/_mio.py:17\u001b[39m, in \u001b[36m_open_file_context\u001b[39m\u001b[34m(file_like, appendmat, mode)\u001b[39m\n\u001b[32m     15\u001b[39m \u001b[38;5;129m@contextmanager\u001b[39m\n\u001b[32m     16\u001b[39m \u001b[38;5;28;01mdef\u001b[39;00m\u001b[38;5;250m \u001b[39m\u001b[34m_open_file_context\u001b[39m(file_like, appendmat, mode=\u001b[33m'\u001b[39m\u001b[33mrb\u001b[39m\u001b[33m'\u001b[39m):\n\u001b[32m---> \u001b[39m\u001b[32m17\u001b[39m     f, opened = \u001b[43m_open_file\u001b[49m\u001b[43m(\u001b[49m\u001b[43mfile_like\u001b[49m\u001b[43m,\u001b[49m\u001b[43m \u001b[49m\u001b[43mappendmat\u001b[49m\u001b[43m,\u001b[49m\u001b[43m \u001b[49m\u001b[43mmode\u001b[49m\u001b[43m)\u001b[49m\n\u001b[32m     18\u001b[39m     \u001b[38;5;28;01mtry\u001b[39;00m:\n\u001b[32m     19\u001b[39m         \u001b[38;5;28;01myield\u001b[39;00m f\n",
      "\u001b[36mFile \u001b[39m\u001b[32m~/miniconda3/envs/TF_py311/lib/python3.11/site-packages/scipy/io/matlab/_mio.py:45\u001b[39m, in \u001b[36m_open_file\u001b[39m\u001b[34m(file_like, appendmat, mode)\u001b[39m\n\u001b[32m     43\u001b[39m     \u001b[38;5;28;01mif\u001b[39;00m appendmat \u001b[38;5;129;01mand\u001b[39;00m \u001b[38;5;129;01mnot\u001b[39;00m file_like.endswith(\u001b[33m'\u001b[39m\u001b[33m.mat\u001b[39m\u001b[33m'\u001b[39m):\n\u001b[32m     44\u001b[39m         file_like += \u001b[33m'\u001b[39m\u001b[33m.mat\u001b[39m\u001b[33m'\u001b[39m\n\u001b[32m---> \u001b[39m\u001b[32m45\u001b[39m     \u001b[38;5;28;01mreturn\u001b[39;00m \u001b[38;5;28mopen\u001b[39m(file_like, mode), \u001b[38;5;28;01mTrue\u001b[39;00m\n\u001b[32m     46\u001b[39m \u001b[38;5;28;01melse\u001b[39;00m:\n\u001b[32m     47\u001b[39m     \u001b[38;5;28;01mraise\u001b[39;00m \u001b[38;5;167;01mOSError\u001b[39;00m(\n\u001b[32m     48\u001b[39m         \u001b[33m'\u001b[39m\u001b[33mReader needs file name or open file-like object\u001b[39m\u001b[33m'\u001b[39m\n\u001b[32m     49\u001b[39m     ) \u001b[38;5;28;01mfrom\u001b[39;00m\u001b[38;5;250m \u001b[39m\u001b[34;01me\u001b[39;00m\n",
      "\u001b[31mFileNotFoundError\u001b[39m: [Errno 2] No such file or directory: '/home/thien/Code/NTN/Hest_NTN_UDA/Domain_Adversarial/model/GAN/ver33_/GAN_practical/performance/performance.mat'"
     ]
    }
   ],
   "source": [
    "import scipy.io as sio\n",
    "\n",
    "iver = 33\n",
    "# Load the .mat file\n",
    "# mat_data = sio.loadmat(f\"{subload_GAN}/ver{iver}_/GAN_linear/performance/performance.mat\")\n",
    "mat_data = sio.loadmat(f\"{subload_GAN}/ver{iver}_/GAN_practical/performance/performance.mat\")\n",
    "\n",
    "# Check the keys inside the file\n",
    "print(mat_data.keys())"
   ]
  },
  {
   "cell_type": "markdown",
   "id": "e9ebbbd1",
   "metadata": {},
   "source": [
    "-5 practical\n",
    "-5 linear\n"
   ]
  },
  {
   "cell_type": "code",
   "execution_count": null,
   "id": "29e0fc49",
   "metadata": {},
   "outputs": [],
   "source": [
    "nmse_source_LI.append(mat_data['nmse_val_source'][0][0])\n",
    "nmse_target_LI.append(mat_data['nmse_val_target'][0][0])\n",
    "nmse_source_LI_GAN.append(mat_data['nmse_val_source'][0][-1])\n",
    "nmse_target_LI_GAN.append(mat_data['nmse_val_target'][0][-1])"
   ]
  },
  {
   "cell_type": "code",
   "execution_count": null,
   "id": "7015599c",
   "metadata": {},
   "outputs": [],
   "source": [
    "nmse_source_practical.append(mat_data['nmse_val_source'][0][0])\n",
    "nmse_target_practical.append(mat_data['nmse_val_target'][0][0])\n",
    "nmse_source_practical_GAN.append(mat_data['nmse_val_source'][0][-1])\n",
    "nmse_target_practical_GAN.append(mat_data['nmse_val_target'][0][-1])"
   ]
  },
  {
   "cell_type": "code",
   "execution_count": null,
   "id": "2d17e74f",
   "metadata": {},
   "outputs": [
    {
     "name": "stdout",
     "output_type": "stream",
     "text": [
      "[np.float32(0.5314477), np.float32(0.17493351), np.float32(0.060796823), np.float32(0.026024938)]\n",
      "[np.float32(0.5534424), np.float32(0.21980993), np.float32(0.07586707), np.float32(0.037570745)]\n",
      "[np.float32(0.06439132), np.float32(0.034551684), np.float32(0.034207717), np.float32(0.014883802)]\n",
      "[np.float32(0.11248367), np.float32(0.08652819), np.float32(0.058597803), np.float32(0.02194548)]\n",
      "[np.float32(0.0880882), np.float32(0.038720086), np.float32(0.017131384), np.float32(0.0061257677)]\n",
      "[np.float32(0.11491652), np.float32(0.06090325), np.float32(0.025494127), np.float32(0.015823971)]\n",
      "[np.float32(0.047686353), np.float32(0.020024495), np.float32(0.01094668), np.float32(0.003343522)]\n",
      "[np.float32(0.11272094), np.float32(0.08703257), np.float32(0.043296788), np.float32(0.012802502)]\n"
     ]
    }
   ],
   "source": [
    "print(nmse_source_LI)\n",
    "print(nmse_target_LI)\n",
    "print(nmse_source_practical)\n",
    "print(nmse_target_practical)\n",
    "print(nmse_source_LI_GAN)\n",
    "print(nmse_target_LI_GAN)\n",
    "print(nmse_source_practical_GAN)\n",
    "print(nmse_target_practical_GAN)"
   ]
  },
  {
   "cell_type": "code",
   "execution_count": null,
   "id": "53360f25",
   "metadata": {},
   "outputs": [
    {
     "name": "stdout",
     "output_type": "stream",
     "text": [
      "/home/thien/Code/H_predict_UDA/H_predict_Sionna/Domain_Adaptation/Domain_Adversarial/model/GAN/ver37_/GAN_practical/parameters/syn.mat\n"
     ]
    }
   ],
   "source": [
    "print(model_path + '/' + sub_folder + '/parameters/syn.mat')"
   ]
  },
  {
   "cell_type": "code",
   "execution_count": null,
   "id": "c0b7c16f",
   "metadata": {},
   "outputs": [],
   "source": [
    "savemat(model_path + '/syn.mat', {\n",
    "    \"nmse_source_LI\": nmse_source_LI,\n",
    "    \"nmse_target_LI\": nmse_target_LI,\n",
    "    \"nmse_source_practical\": nmse_source_practical,\n",
    "    \"nmse_target_practical\": nmse_target_practical,\n",
    "    \"nmse_source_LI_GAN\": nmse_source_LI_GAN,\n",
    "    \"nmse_target_LI_GAN\": nmse_target_LI_GAN,\n",
    "    \"nmse_source_practical_GAN\": nmse_source_practical_GAN,\n",
    "    \"nmse_target_practical_GAN\": nmse_target_practical_GAN,\n",
    "    \"SNR_dB_\": SNR_dB_,\n",
    "})"
   ]
  },
  {
   "cell_type": "code",
   "execution_count": null,
   "id": "eaf2cbc4",
   "metadata": {},
   "outputs": [
    {
     "data": {
      "image/png": "[encoded data removed]",
      "text/plain": [
       "<Figure size 700x500 with 1 Axes>"
      ]
     },
     "metadata": {},
     "output_type": "display_data"
    },
    {
     "data": {
      "image/png": "[encoded data removed]",
      "text/plain": [
       "<Figure size 700x500 with 1 Axes>"
      ]
     },
     "metadata": {},
     "output_type": "display_data"
    }
   ],
   "source": [
    "import matplotlib.pyplot as plt\n",
    "\n",
    "# Epochs\n",
    "epochs = [75, 150, 225]\n",
    "\n",
    "# Data for ver36 (linear)\n",
    "ver36_svm = [0.9847826086956522, 0.6804347826086956, 0.6260869565217391]\n",
    "ver36_lda = [0.5478260869565217, 0.3021739130434784, 0.28695652173913055]\n",
    "ver36_logreg = [0.5543478260869565, 0.30869565217391326, 0.27826086956521756]\n",
    "\n",
    "# Data for ver37 (practical)\n",
    "ver37_svm = [0.9152173913043478, 0.9195652173913045, 1.0282608695652176]\n",
    "ver37_lda = [0.473913043478261, 0.3217391304347825, 0.606521739130435]\n",
    "ver37_logreg = [0.4695652173913043, 0.31739130434782625, 0.606521739130435]\n",
    "\n",
    "# --- Figure 1: ver36 linear ---\n",
    "plt.figure(figsize=(7,5))\n",
    "plt.plot(epochs, ver36_svm, '-o', label=\"SVM\", linewidth=2)\n",
    "plt.plot(epochs, ver36_lda, '-s', label=\"LDA\", linewidth=2)\n",
    "plt.plot(epochs, ver36_logreg, '-d', label=\"LogReg\", linewidth=2)\n",
    "plt.xlabel(\"Epochs\")\n",
    "plt.ylabel(\"PAD\")\n",
    "plt.title(\"SNR -15dB, LI-GAN\")\n",
    "plt.grid(True)\n",
    "plt.legend()\n",
    "plt.tight_layout()\n",
    "\n",
    "# --- Figure 2: ver37 practical ---\n",
    "plt.figure(figsize=(7,5))\n",
    "plt.plot(epochs, ver37_svm, '-o', label=\"SVM\", linewidth=2)\n",
    "plt.plot(epochs, ver37_lda, '-s', label=\"LDA\", linewidth=2)\n",
    "plt.plot(epochs, ver37_logreg, '-d', label=\"LogReg\", linewidth=2)\n",
    "plt.xlabel(\"Epochs\")\n",
    "plt.ylabel(\"PAD\")\n",
    "plt.title(\"SNR -15dB, Practical-GAN\")\n",
    "plt.grid(True)\n",
    "plt.legend()\n",
    "plt.tight_layout()\n",
    "\n",
    "plt.show()\n"
   ]
  }
 ],
 "metadata": {
  "kernelspec": {
   "display_name": "TF_py311",
   "language": "python",
   "name": "python3"
  },
  "language_info": {
   "codemirror_mode": {
    "name": "ipython",
    "version": 3
   },
   "file_extension": ".py",
   "mimetype": "text/x-python",
   "name": "python",
   "nbconvert_exporter": "python",
   "pygments_lexer": "ipython3",
   "version": "3.11.11"
  }
 },
 "nbformat": 4,
 "nbformat_minor": 5
}
